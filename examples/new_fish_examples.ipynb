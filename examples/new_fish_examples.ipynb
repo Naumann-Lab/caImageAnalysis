{
 "cells": [
  {
   "cell_type": "code",
   "execution_count": null,
   "source": [
    "import matplotlib.pyplot as plt\n",
    "import numpy as np\n",
    "\n",
    "import os\n",
    "import sys\n",
    "\n",
    "sys.path.append(r\"C:\\Users\\matt_analysis\\Documents\\GitHub\\caImageAnalysis\")\n",
    "\n",
    "# local imports\n",
    "from fishy import WorkingFish, VizStimFish\n",
    "\n",
    "# import process\n",
    "import stimuli"
   ],
   "metadata": {
    "collapsed": false,
    "pycharm": {
     "name": "#%%\n"
    }
   },
   "outputs": []
  },
  {
   "cell_type": "code",
   "execution_count": null,
   "source": [
    "# base example --\n",
    "testpath = r\"D:\\Data\\Imaging\\2022\\extended_singleplanes\\-130\"\n",
    "\n",
    "sharky = VizStimFish(\n",
    "    folder_path=testpath,\n",
    "    frametimes_key=\"img\",\n",
    "    stim_key=\"matt\",\n",
    "    stim_fxn=stimuli.pandastim_to_df,\n",
    ")\n",
    "\n",
    "diff_image = sharky.make_difference_image()\n",
    "plt.imshow(diff_image)\n",
    "plt.axis(\"off\")\n",
    "plt.show()"
   ],
   "metadata": {
    "collapsed": false,
    "pycharm": {
     "name": "#%%\n"
    }
   },
   "outputs": []
  },
  {
   "cell_type": "code",
   "execution_count": null,
   "source": [],
   "metadata": {
    "collapsed": false,
    "pycharm": {
     "name": "#%%\n"
    }
   },
   "outputs": []
  },
  {
   "cell_type": "code",
   "execution_count": null,
   "source": [],
   "metadata": {
    "collapsed": false,
    "pycharm": {
     "name": "#%%\n"
    }
   },
   "outputs": []
  },
  {
   "cell_type": "code",
   "execution_count": null,
   "source": [
    "# make dict of paths\n",
    "paths = {}\n",
    "with os.scandir(r\"D:\\Data\\Imaging\\2022\\extended_singleplanes\\4dpf\\fish1\") as entries:\n",
    "    for entry in entries:\n",
    "        if os.path.isdir(entry.path):\n",
    "            print(entry.path)\n",
    "            paths[entry.name] = entry.path"
   ],
   "metadata": {
    "collapsed": false,
    "pycharm": {
     "name": "#%%\n"
    }
   },
   "outputs": []
  },
  {
   "cell_type": "code",
   "execution_count": null,
   "source": [
    "# make central vol processing class\n",
    "fishvolume = VolumeFish()"
   ],
   "metadata": {
    "collapsed": false,
    "pycharm": {
     "name": "#%%\n"
    }
   },
   "outputs": []
  },
  {
   "cell_type": "code",
   "execution_count": null,
   "source": [
    "planes = [\n",
    "    \"60um\",\n",
    "    \"70um\",\n",
    "    \"80um\",\n",
    "    \"90um\",\n",
    "    \"100um\",\n",
    "    \"110um\",\n",
    "]  # the order i want them in my thing\n",
    "for p in tqdm(planes):\n",
    "    afish = WorkingFish(\n",
    "        folder_path=paths[p],\n",
    "        frametimes_key=\"ch1\",\n",
    "        stim_key=\"matt\",\n",
    "        stim_fxn=stimuli.pandastim_to_df,\n",
    "    )  # make a fish\n",
    "\n",
    "    fishvolume.add_volume(afish)  # add them to volume"
   ],
   "metadata": {
    "collapsed": false,
    "pycharm": {
     "name": "#%%\n"
    }
   },
   "outputs": []
  },
  {
   "cell_type": "code",
   "execution_count": null,
   "source": [
    "fishvolume.add_diff_imgs(brightnessFactor=10)\n",
    "\n",
    "# process in the diff imgs\n",
    "vdiff = fishvolume.volume_diff()\n",
    "\n",
    "plt.figure(figsize=(6, 6))\n",
    "plt.imshow(vdiff)\n",
    "plt.axis(\"off\")\n",
    "plt.title(\"volume diff\")\n",
    "plt.show()"
   ],
   "metadata": {
    "collapsed": false,
    "pycharm": {
     "name": "#%%\n"
    }
   },
   "outputs": []
  },
  {
   "cell_type": "code",
   "execution_count": null,
   "source": [
    "# do cool volume stuff\n",
    "xpos, ypos, colors, neurons = fishvolume.volume_computed_image()\n",
    "\n",
    "plt.figure(figsize=(12, 12))\n",
    "plt.scatter(xpos, ypos, color=colors, alpha=0.85, s=35)\n",
    "plt.gca().invert_yaxis()\n",
    "plt.imshow(\n",
    "    fishvolume[2].ops[\"refImg\"],\n",
    "    cmap=\"gray\",\n",
    "    alpha=0.85,\n",
    "    vmax=np.percentile(fishvolume[2].ops[\"refImg\"], 99.9),\n",
    ")\n",
    "plt.gca().invert_xaxis()\n",
    "plt.axis(\"off\")\n",
    "plt.show()"
   ],
   "metadata": {
    "collapsed": false,
    "pycharm": {
     "name": "#%%\n"
    }
   },
   "outputs": []
  },
  {
   "cell_type": "code",
   "execution_count": null,
   "source": [
    "plt.imshow(fishvolume[2].ops[\"refImg\"], cmap=\"gray\")  # can index into fishvolume!\n",
    "plt.axis(\"off\")\n",
    "plt.show()"
   ],
   "metadata": {
    "collapsed": false,
    "pycharm": {
     "name": "#%%\n"
    }
   },
   "outputs": []
  },
  {
   "cell_type": "code",
   "execution_count": null,
   "source": [
    "for vol in fishvolume:\n",
    "    plt.imshow(\n",
    "        vol.ops[\"refImg\"], cmap=\"gray\", vmax=np.percentile(vol.ops[\"refImg\"], 99.9)\n",
    "    )  # can index into fishvolume!\n",
    "    plt.axis(\"off\")\n",
    "    plt.show()"
   ],
   "metadata": {
    "collapsed": false,
    "pycharm": {
     "name": "#%%\n"
    }
   },
   "outputs": []
  },
  {
   "cell_type": "code",
   "execution_count": 12,
   "metadata": {
    "pycharm": {
     "name": "#%%\n"
    }
   },
   "source": [
    "# we can iterate through these things!\n",
    "\n",
    "for fish in fishvolume:\n",
    "    print(fish.folder_path)"
   ],
   "outputs": []
  },
  {
   "cell_type": "code",
   "execution_count": 13,
   "metadata": {
    "pycharm": {
     "name": "#%%\n"
    }
   },
   "source": [
    "len(fishvolume)"
   ],
   "outputs": []
  },
  {
   "cell_type": "code",
   "execution_count": null,
   "metadata": {
    "pycharm": {
     "name": "#%%\n"
    }
   },
   "source": [],
   "outputs": []
  }
 ],
 "metadata": {
  "kernelspec": {
   "display_name": "Python 3",
   "language": "python",
   "name": "python3"
  },
  "language_info": {
   "codemirror_mode": {
    "name": "ipython",
    "version": 3
   },
   "file_extension": ".py",
   "mimetype": "text/x-python",
   "name": "python",
   "nbconvert_exporter": "python",
   "pygments_lexer": "ipython3",
   "version": "3.10.8"
  }
 },
 "nbformat": 4,
 "nbformat_minor": 2
}
