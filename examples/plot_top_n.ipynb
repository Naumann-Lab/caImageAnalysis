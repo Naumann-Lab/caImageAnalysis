{
 "cells": [
  {
   "cell_type": "code",
   "execution_count": 1,
   "metadata": {},
   "outputs": [
    {
     "name": "stderr",
     "output_type": "stream",
     "text": [
      "C:\\Soft_Kitty\\Anaconda3\\envs\\caiman\\lib\\site-packages\\sklearn\\linear_model\\least_angle.py:30: DeprecationWarning: `np.float` is a deprecated alias for the builtin `float`. To silence this warning, use `float` by itself. Doing this will not modify any behavior and is safe. If you specifically wanted the numpy scalar type, use `np.float64` here.\n",
      "Deprecated in NumPy 1.20; for more details and guidance: https://numpy.org/devdocs/release/1.20.0-notes.html#deprecations\n",
      "  method='lar', copy_X=True, eps=np.finfo(np.float).eps,\n",
      "C:\\Soft_Kitty\\Anaconda3\\envs\\caiman\\lib\\site-packages\\sklearn\\linear_model\\least_angle.py:167: DeprecationWarning: `np.float` is a deprecated alias for the builtin `float`. To silence this warning, use `float` by itself. Doing this will not modify any behavior and is safe. If you specifically wanted the numpy scalar type, use `np.float64` here.\n",
      "Deprecated in NumPy 1.20; for more details and guidance: https://numpy.org/devdocs/release/1.20.0-notes.html#deprecations\n",
      "  method='lar', copy_X=True, eps=np.finfo(np.float).eps,\n",
      "C:\\Soft_Kitty\\Anaconda3\\envs\\caiman\\lib\\site-packages\\sklearn\\linear_model\\least_angle.py:284: DeprecationWarning: `np.float` is a deprecated alias for the builtin `float`. To silence this warning, use `float` by itself. Doing this will not modify any behavior and is safe. If you specifically wanted the numpy scalar type, use `np.float64` here.\n",
      "Deprecated in NumPy 1.20; for more details and guidance: https://numpy.org/devdocs/release/1.20.0-notes.html#deprecations\n",
      "  eps=np.finfo(np.float).eps, copy_Gram=True, verbose=0,\n",
      "C:\\Soft_Kitty\\Anaconda3\\envs\\caiman\\lib\\site-packages\\sklearn\\linear_model\\least_angle.py:862: DeprecationWarning: `np.float` is a deprecated alias for the builtin `float`. To silence this warning, use `float` by itself. Doing this will not modify any behavior and is safe. If you specifically wanted the numpy scalar type, use `np.float64` here.\n",
      "Deprecated in NumPy 1.20; for more details and guidance: https://numpy.org/devdocs/release/1.20.0-notes.html#deprecations\n",
      "  eps=np.finfo(np.float).eps, copy_X=True, fit_path=True,\n",
      "C:\\Soft_Kitty\\Anaconda3\\envs\\caiman\\lib\\site-packages\\sklearn\\linear_model\\least_angle.py:1101: DeprecationWarning: `np.float` is a deprecated alias for the builtin `float`. To silence this warning, use `float` by itself. Doing this will not modify any behavior and is safe. If you specifically wanted the numpy scalar type, use `np.float64` here.\n",
      "Deprecated in NumPy 1.20; for more details and guidance: https://numpy.org/devdocs/release/1.20.0-notes.html#deprecations\n",
      "  eps=np.finfo(np.float).eps, copy_X=True, fit_path=True,\n",
      "C:\\Soft_Kitty\\Anaconda3\\envs\\caiman\\lib\\site-packages\\sklearn\\linear_model\\least_angle.py:1127: DeprecationWarning: `np.float` is a deprecated alias for the builtin `float`. To silence this warning, use `float` by itself. Doing this will not modify any behavior and is safe. If you specifically wanted the numpy scalar type, use `np.float64` here.\n",
      "Deprecated in NumPy 1.20; for more details and guidance: https://numpy.org/devdocs/release/1.20.0-notes.html#deprecations\n",
      "  eps=np.finfo(np.float).eps, positive=False):\n",
      "C:\\Soft_Kitty\\Anaconda3\\envs\\caiman\\lib\\site-packages\\sklearn\\linear_model\\least_angle.py:1362: DeprecationWarning: `np.float` is a deprecated alias for the builtin `float`. To silence this warning, use `float` by itself. Doing this will not modify any behavior and is safe. If you specifically wanted the numpy scalar type, use `np.float64` here.\n",
      "Deprecated in NumPy 1.20; for more details and guidance: https://numpy.org/devdocs/release/1.20.0-notes.html#deprecations\n",
      "  max_n_alphas=1000, n_jobs=None, eps=np.finfo(np.float).eps,\n",
      "C:\\Soft_Kitty\\Anaconda3\\envs\\caiman\\lib\\site-packages\\sklearn\\linear_model\\least_angle.py:1602: DeprecationWarning: `np.float` is a deprecated alias for the builtin `float`. To silence this warning, use `float` by itself. Doing this will not modify any behavior and is safe. If you specifically wanted the numpy scalar type, use `np.float64` here.\n",
      "Deprecated in NumPy 1.20; for more details and guidance: https://numpy.org/devdocs/release/1.20.0-notes.html#deprecations\n",
      "  max_n_alphas=1000, n_jobs=None, eps=np.finfo(np.float).eps,\n",
      "C:\\Soft_Kitty\\Anaconda3\\envs\\caiman\\lib\\site-packages\\sklearn\\linear_model\\least_angle.py:1738: DeprecationWarning: `np.float` is a deprecated alias for the builtin `float`. To silence this warning, use `float` by itself. Doing this will not modify any behavior and is safe. If you specifically wanted the numpy scalar type, use `np.float64` here.\n",
      "Deprecated in NumPy 1.20; for more details and guidance: https://numpy.org/devdocs/release/1.20.0-notes.html#deprecations\n",
      "  eps=np.finfo(np.float).eps, copy_X=True, positive=False):\n",
      "C:\\Soft_Kitty\\Anaconda3\\envs\\caiman\\lib\\site-packages\\sklearn\\decomposition\\online_lda.py:29: DeprecationWarning: `np.float` is a deprecated alias for the builtin `float`. To silence this warning, use `float` by itself. Doing this will not modify any behavior and is safe. If you specifically wanted the numpy scalar type, use `np.float64` here.\n",
      "Deprecated in NumPy 1.20; for more details and guidance: https://numpy.org/devdocs/release/1.20.0-notes.html#deprecations\n",
      "  EPS = np.finfo(np.float).eps\n",
      "WARNING:param.main: pandas could not register all extension types imports failed with the following error: cannot import name 'ABCIndexClass' from 'pandas.core.dtypes.generic' (C:\\Soft_Kitty\\Anaconda3\\envs\\caiman\\lib\\site-packages\\pandas\\core\\dtypes\\generic.py)\n"
     ]
    }
   ],
   "source": [
    "%reload_ext autoreload \n",
    "%autoreload 2\n",
    "\n",
    "import matplotlib.pyplot as plt\n",
    "import numpy as np\n",
    "import sys\n",
    "sys.path.append(r'C:\\Users\\matt_analysis\\Documents\\GitHub\\caImageAnalysis')\n",
    "\n",
    "\n",
    "from fish import LegacyFish as Fish\n",
    "from pathutils import pathcrawler\n",
    "from constants import invStimDict, monocular_dict, baseBinocs\n",
    "import volumes"
   ]
  },
  {
   "cell_type": "markdown",
   "metadata": {},
   "source": [
    "# find the paths"
   ]
  },
  {
   "cell_type": "code",
   "execution_count": 2,
   "metadata": {},
   "outputs": [],
   "source": [
    "fishpaths = {3 : pathcrawler(r'D:\\Data\\Imaging\\2022\\Nov82022_3dpf', set(), [], \"fish\"),\n",
    "             4 : pathcrawler(r'D:\\Data\\Imaging\\2022\\Nov92022_4dpf', set(), [], \"fish\"),\n",
    "             5 : pathcrawler(r'D:\\Data\\Imaging\\2022\\Nov102022_5dpf', set(), [], \"fish\"),}"
   ]
  },
  {
   "cell_type": "markdown",
   "metadata": {},
   "source": [
    "# make class objects per path"
   ]
  },
  {
   "cell_type": "code",
   "execution_count": null,
   "metadata": {},
   "outputs": [
    {
     "name": "stderr",
     "output_type": "stream",
     "text": [
      "C:\\Soft_Kitty\\Anaconda3\\envs\\caiman\\lib\\site-packages\\pandas\\core\\generic.py:5516: SettingWithCopyWarning: \n",
      "A value is trying to be set on a copy of a slice from a DataFrame.\n",
      "Try using .loc[row_indexer,col_indexer] = value instead\n",
      "\n",
      "See the caveats in the documentation: https://pandas.pydata.org/pandas-docs/stable/user_guide/indexing.html#returning-a-view-versus-a-copy\n",
      "  self[name] = value\n",
      "C:\\Soft_Kitty\\Anaconda3\\envs\\caiman\\lib\\site-packages\\pandas\\core\\indexing.py:1667: SettingWithCopyWarning: \n",
      "A value is trying to be set on a copy of a slice from a DataFrame.\n",
      "Try using .loc[row_indexer,col_indexer] = value instead\n",
      "\n",
      "See the caveats in the documentation: https://pandas.pydata.org/pandas-docs/stable/user_guide/indexing.html#returning-a-view-versus-a-copy\n",
      "  self.obj[key] = value\n"
     ]
    }
   ],
   "source": [
    "fish = {i : [] for i in fishpaths.keys()}\n",
    "for k in fishpaths.keys():\n",
    "    for p in fishpaths[k]:\n",
    "        f = Fish(p, stimkey='output')\n",
    "        f.stimulus_df_condensed.loc[:, 'stim_nameINV'] = f.stimulus_df_condensed.stim_name.map(invStimDict)\n",
    "        fish[k].append(f)"
   ]
  },
  {
   "cell_type": "markdown",
   "metadata": {},
   "source": [
    "# process a few example fish"
   ]
  },
  {
   "cell_type": "code",
   "execution_count": null,
   "metadata": {},
   "outputs": [],
   "source": [
    "allthresholds = 0.75\n",
    "zerobool = True # this will inflate correlations -- unsure if to my benefit or not will filter Off-responses&thelike\n",
    "\n",
    "inds = {3: 0, 4: 0, 5: 0}\n",
    "used_fish = {k : fish[k][v] for k,v in inds.items()}\n",
    "\n",
    "for f in used_fish.values():\n",
    "    f.zdiff_stimdicts()\n",
    "    f.zdiff_booldf(threshold=allthresholds, zero_arr=zerobool)"
   ]
  },
  {
   "cell_type": "markdown",
   "metadata": {},
   "source": [
    "# plot top N (20) right neurons @ 3dpf"
   ]
  },
  {
   "cell_type": "code",
   "execution_count": null,
   "metadata": {},
   "outputs": [],
   "source": [
    "nemo = used_fish[3]\n",
    "stimChoice = 'right'\n",
    "\n",
    "stim_offset = 5\n",
    "\n",
    "nrns = volumes.grabPeakNeurons(nemo, stimChoice, 20)\n",
    "\n",
    "plt.figure(figsize=(20,15))\n",
    "\n",
    "for z in range(20):\n",
    "    plt.plot(np.arange(len(nrns[z])), nrns[z] + z, color='black')\n",
    "\n",
    "monoc_stims = nemo.stimulus_df_condensed[(nemo.stimulus_df_condensed.stim_nameINV.isin(monocular_dict.keys()))|\n",
    "                                         (nemo.stimulus_df_condensed.stim_nameINV.isin(baseBinocs))]\n",
    "frames = monoc_stims['0_frame'].values\n",
    "stimmies = monoc_stims['stim_nameINV'].values\n",
    "\n",
    "for s, stimmy in zip(frames,stimmies):\n",
    "    if stimmy in monocular_dict.keys():\n",
    "        plt.axvspan(s-1, s+stim_offset+2, color=monocular_dict[stimmy], alpha=0.4)\n",
    "    \n",
    "    if stimmy in baseBinocs:\n",
    "        begin =  s-1\n",
    "        end = s+stim_offset+2\n",
    "        midpt = begin + (end - begin)//2\n",
    "        \n",
    "        if stimmy == 'lateral_left':\n",
    "            plt.axvspan(begin, midpt, color=monocular_dict['left'], alpha=0.4, hatch=r'\\\\\\\\')\n",
    "            plt.axvspan(midpt, end, color=monocular_dict['left'], alpha=0.4)\n",
    "        if stimmy == 'medial_left':\n",
    "            plt.axvspan(begin, midpt, color=monocular_dict['left'], alpha=0.4)\n",
    "            plt.axvspan(midpt, end, color=monocular_dict['left'], alpha=0.4, hatch=r'\\\\\\\\')\n",
    "            \n",
    "        if stimmy == 'lateral_right':\n",
    "            plt.axvspan(begin, midpt, color=monocular_dict['right'], alpha=0.4)\n",
    "            plt.axvspan(midpt, end, color=monocular_dict['right'], alpha=0.4, hatch=r'\\\\\\\\')\n",
    "        if stimmy == 'medial_right':\n",
    "            plt.axvspan(begin, midpt, color=monocular_dict['right'], alpha=0.4, hatch=r'\\\\\\\\')\n",
    "            plt.axvspan(midpt, end, color=monocular_dict['right'], alpha=0.4)          \n",
    "\n",
    "\n",
    "plt.xlim(550, 950)\n",
    "plt.yticks([])\n",
    "plt.show()"
   ]
  },
  {
   "cell_type": "markdown",
   "metadata": {},
   "source": [
    "# plot top N (20) right neurons @ 5dpf"
   ]
  },
  {
   "cell_type": "code",
   "execution_count": null,
   "metadata": {},
   "outputs": [],
   "source": [
    "nemo = used_fish[5]\n",
    "stimChoice = 'right'\n",
    "\n",
    "stim_offset = 5\n",
    "\n",
    "nrns = volumes.grabPeakNeurons(nemo, stimChoice, 20)\n",
    "\n",
    "plt.figure(figsize=(20,15))\n",
    "\n",
    "for z in range(20):\n",
    "    plt.plot(np.arange(len(nrns[z])), nrns[z] + z, color='black')\n",
    "\n",
    "monoc_stims = nemo.stimulus_df_condensed[(nemo.stimulus_df_condensed.stim_nameINV.isin(monocular_dict.keys()))|\n",
    "                                         (nemo.stimulus_df_condensed.stim_nameINV.isin(baseBinocs))]\n",
    "frames = monoc_stims['0_frame'].values\n",
    "stimmies = monoc_stims['stim_nameINV'].values\n",
    "\n",
    "for s, stimmy in zip(frames,stimmies):\n",
    "    if stimmy in monocular_dict.keys():\n",
    "        plt.axvspan(s-1, s+stim_offset+2, color=monocular_dict[stimmy], alpha=0.4)\n",
    "    \n",
    "    if stimmy in baseBinocs:\n",
    "        begin =  s-1\n",
    "        end = s+stim_offset+2\n",
    "        midpt = begin + (end - begin)//2\n",
    "        \n",
    "        if stimmy == 'lateral_left':\n",
    "            plt.axvspan(begin, midpt, color=monocular_dict['left'], alpha=0.4, hatch=r'\\\\\\\\')\n",
    "            plt.axvspan(midpt, end, color=monocular_dict['left'], alpha=0.4)\n",
    "        if stimmy == 'medial_left':\n",
    "            plt.axvspan(begin, midpt, color=monocular_dict['left'], alpha=0.4)\n",
    "            plt.axvspan(midpt, end, color=monocular_dict['left'], alpha=0.4, hatch=r'\\\\\\\\')\n",
    "            \n",
    "        if stimmy == 'lateral_right':\n",
    "            plt.axvspan(begin, midpt, color=monocular_dict['right'], alpha=0.4)\n",
    "            plt.axvspan(midpt, end, color=monocular_dict['right'], alpha=0.4, hatch=r'\\\\\\\\')\n",
    "        if stimmy == 'medial_right':\n",
    "            plt.axvspan(begin, midpt, color=monocular_dict['right'], alpha=0.4, hatch=r'\\\\\\\\')\n",
    "            plt.axvspan(midpt, end, color=monocular_dict['right'], alpha=0.4)          \n",
    "\n",
    "\n",
    "plt.xlim(550, 950)\n",
    "plt.yticks([])\n",
    "plt.show()"
   ]
  },
  {
   "cell_type": "code",
   "execution_count": null,
   "metadata": {},
   "outputs": [],
   "source": []
  }
 ],
 "metadata": {
  "kernelspec": {
   "display_name": "Python 3",
   "language": "python",
   "name": "python3"
  },
  "language_info": {
   "codemirror_mode": {
    "name": "ipython",
    "version": 3
   },
   "file_extension": ".py",
   "mimetype": "text/x-python",
   "name": "python",
   "nbconvert_exporter": "python",
   "pygments_lexer": "ipython3",
   "version": "3.7.3"
  }
 },
 "nbformat": 4,
 "nbformat_minor": 2
}
