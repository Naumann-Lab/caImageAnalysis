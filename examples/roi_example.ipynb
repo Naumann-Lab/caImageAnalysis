{
 "cells": [
  {
   "cell_type": "code",
   "execution_count": 6,
   "id": "5c55273f",
   "metadata": {
    "pycharm": {
     "name": "#%%\n"
    }
   },
   "outputs": [
    {
     "name": "stdout",
     "output_type": "stream",
     "text": [
      "The autoreload extension is already loaded. To reload it, use:\n",
      "  %reload_ext autoreload\n"
     ]
    }
   ],
   "source": [
    "%load_ext autoreload"
   ]
  },
  {
   "cell_type": "code",
   "execution_count": null,
   "outputs": [],
   "source": [
    "%autoreload 2\n",
    "import numpy as np\n",
    "import matplotlib.pyplot as plt\n",
    "\n",
    "import sys\n",
    "\n",
    "sys.path.append(r\"C:\\Users\\matt_analysis\\Documents\\GitHub\\caImageAnalysis\")\n",
    "\n",
    "# local imports\n",
    "from fishy import BaseFish"
   ],
   "metadata": {
    "collapsed": false,
    "pycharm": {
     "name": "#%%\n"
    }
   }
  },
  {
   "cell_type": "code",
   "execution_count": null,
   "outputs": [],
   "source": [
    "fishpath = r\"D:\\Data\\Imaging\\2022\\extended_singleplanes\\5dpf\\-120\""
   ],
   "metadata": {
    "collapsed": false,
    "pycharm": {
     "name": "#%%\n"
    }
   }
  },
  {
   "cell_type": "code",
   "execution_count": null,
   "outputs": [],
   "source": [
    "# any fish class should work here\n",
    "\n",
    "ex_fish = BaseFish(\n",
    "    folder_path=fishpath,\n",
    "    frametimes_key=\"ch1\",\n",
    ")"
   ],
   "metadata": {
    "collapsed": false,
    "pycharm": {
     "name": "#%%\n"
    }
   }
  },
  {
   "cell_type": "code",
   "execution_count": null,
   "outputs": [],
   "source": [
    "ex_fish.load_suite2p()"
   ],
   "metadata": {
    "collapsed": false,
    "pycharm": {
     "name": "#%%\n"
    }
   }
  },
  {
   "cell_type": "code",
   "execution_count": null,
   "outputs": [],
   "source": [
    "plt.figure(figsize=(6, 6))\n",
    "\n",
    "plt.imshow(ex_fish.ops[\"refImg\"])\n",
    "\n",
    "plt.axis(\"off\")\n",
    "plt.show()"
   ],
   "metadata": {
    "collapsed": false,
    "pycharm": {
     "name": "#%%\n"
    }
   }
  },
  {
   "cell_type": "code",
   "execution_count": null,
   "outputs": [],
   "source": [
    "selected_cells = ex_fish.return_cells_by_saved_roi(\"left_HB\")"
   ],
   "metadata": {
    "collapsed": false,
    "pycharm": {
     "name": "#%%\n"
    }
   }
  },
  {
   "cell_type": "code",
   "execution_count": null,
   "outputs": [],
   "source": [
    "# show us the ROI we made (ignore the random rectanlge -- this is a cheap way to plot but not the most exact)\n",
    "plt.figure(figsize=(6, 6))\n",
    "\n",
    "plt.imshow(ex_fish.ops[\"refImg\"])\n",
    "\n",
    "xvals = []\n",
    "yvals = []\n",
    "for pt in ex_fish.ptlist:\n",
    "    xvals.append(pt[1])\n",
    "    yvals.append(pt[0])\n",
    "\n",
    "plt.fill_between(xvals, yvals, color=\"white\", alpha=0.5)\n",
    "\n",
    "plt.axis(\"off\")\n",
    "plt.show()"
   ],
   "metadata": {
    "collapsed": false,
    "pycharm": {
     "name": "#%%\n"
    }
   }
  },
  {
   "cell_type": "code",
   "execution_count": null,
   "outputs": [],
   "source": [
    "# show us the ROI we made (ignore the random rectanlge -- this is a cheap way to plot but not the most exact)\n",
    "plt.figure(figsize=(12, 12))\n",
    "\n",
    "plt.imshow(ex_fish.ops[\"refImg\"])\n",
    "\n",
    "xvals = []\n",
    "yvals = []\n",
    "for pt in ex_fish.ptlist:\n",
    "    xvals.append(pt[1])\n",
    "    yvals.append(pt[0])\n",
    "\n",
    "plt.fill_between(xvals, yvals, color=\"white\", alpha=0.5)\n",
    "\n",
    "selected_cell_rois = ex_fish.return_cell_rois(selected_cells)\n",
    "for cell in selected_cell_rois:\n",
    "    plt.scatter(cell[1], cell[0])\n",
    "\n",
    "plt.axis(\"off\")\n",
    "plt.show()"
   ],
   "metadata": {
    "collapsed": false,
    "pycharm": {
     "name": "#%%\n"
    }
   }
  },
  {
   "cell_type": "code",
   "execution_count": null,
   "outputs": [],
   "source": [
    "selected_cells"
   ],
   "metadata": {
    "collapsed": false,
    "pycharm": {
     "name": "#%%\n"
    }
   }
  },
  {
   "cell_type": "code",
   "execution_count": null,
   "outputs": [],
   "source": [
    "all_cells = ex_fish.return_cells_by_location()\n",
    "not_selected_cells = np.delete(all_cells, selected_cells)"
   ],
   "metadata": {
    "collapsed": false,
    "pycharm": {
     "name": "#%%\n"
    }
   }
  },
  {
   "cell_type": "code",
   "execution_count": null,
   "outputs": [],
   "source": [
    "plt.figure(figsize=(12, 12))\n",
    "\n",
    "plt.imshow(ex_fish.ops[\"refImg\"])\n",
    "\n",
    "xvals = []\n",
    "yvals = []\n",
    "for pt in ex_fish.ptlist:\n",
    "    xvals.append(pt[1])\n",
    "    yvals.append(pt[0])\n",
    "\n",
    "plt.fill_between(xvals, yvals, color=\"white\", alpha=0.5)\n",
    "\n",
    "not_selected_cell_rois = ex_fish.return_cell_rois(not_selected_cells)\n",
    "for cell in not_selected_cell_rois:\n",
    "    plt.scatter(cell[1], cell[0])\n",
    "\n",
    "plt.axis(\"off\")\n",
    "plt.show()"
   ],
   "metadata": {
    "collapsed": false,
    "pycharm": {
     "name": "#%%\n"
    }
   }
  },
  {
   "cell_type": "code",
   "execution_count": null,
   "id": "e5c4777c",
   "metadata": {
    "pycharm": {
     "name": "#%%\n"
    }
   },
   "outputs": [],
   "source": []
  }
 ],
 "metadata": {
  "kernelspec": {
   "display_name": "Python 3",
   "language": "python",
   "name": "python3"
  },
  "language_info": {
   "codemirror_mode": {
    "name": "ipython",
    "version": 3
   },
   "file_extension": ".py",
   "mimetype": "text/x-python",
   "name": "python",
   "nbconvert_exporter": "python",
   "pygments_lexer": "ipython3",
   "version": "3.10.8"
  }
 },
 "nbformat": 4,
 "nbformat_minor": 5
}