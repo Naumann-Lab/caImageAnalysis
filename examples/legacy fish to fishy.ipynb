{
 "cells": [
  {
   "cell_type": "code",
   "execution_count": 1,
   "metadata": {
    "collapsed": true,
    "pycharm": {
     "name": "#%%\n"
    }
   },
   "source": [
    "%load_ext autoreload"
   ],
   "outputs": []
  },
  {
   "cell_type": "code",
   "execution_count": 2,
   "source": [
    "%autoreload 2\n",
    "import numpy as np\n",
    "import pandas as pd\n",
    "import matplotlib.pyplot as plt\n",
    "\n",
    "from tqdm.auto import tqdm\n",
    "from pathlib import Path\n",
    "\n",
    "import os\n",
    "import sys\n",
    "\n",
    "sys.path.append(r\"C:\\Users\\matt_analysis\\Documents\\GitHub\\caImageAnalysis\")\n",
    "\n",
    "# local imports\n",
    "from fishy import WorkingFish, BaseFish, VizStimVolume, PurgeFish\n",
    "\n",
    "import process\n",
    "import stimuli\n",
    "from constants import monocular_dict, baseBinocs, deg_dict\n",
    "from utilities import arrutils"
   ],
   "metadata": {
    "collapsed": false,
    "pycharm": {
     "name": "#%%\n"
    }
   },
   "outputs": []
  },
  {
   "cell_type": "code",
   "execution_count": 3,
   "source": [
    "basePath = Path(r\"D:\\Data\\Imaging\\2022\\Nov102022_5dpf\\fish4\")\n",
    "\n",
    "fish_paths = []\n",
    "with os.scandir(basePath) as entries:\n",
    "    for entry in entries:\n",
    "        if os.path.isdir(entry.path):\n",
    "            fish_paths.append(entry.path)"
   ],
   "metadata": {
    "collapsed": false,
    "pycharm": {
     "name": "#%%\n"
    }
   },
   "outputs": []
  },
  {
   "cell_type": "code",
   "execution_count": 6,
   "source": [
    "fish_paths"
   ],
   "metadata": {
    "collapsed": false,
    "pycharm": {
     "name": "#%%\n"
    }
   },
   "outputs": []
  },
  {
   "cell_type": "code",
   "execution_count": 34,
   "source": [
    "bf = WorkingFish(\n",
    "    folder_path=fish_paths[0],\n",
    "    legacy=True,\n",
    "    stim_fxn=stimuli.legacy_struct_pandastim_to_df,\n",
    "    stim_fxn_args={\"stimkey\": \"matt\"},\n",
    ")"
   ],
   "metadata": {
    "collapsed": false,
    "pycharm": {
     "name": "#%%\n"
    }
   },
   "outputs": []
  },
  {
   "cell_type": "code",
   "execution_count": 36,
   "source": [
    "d = bf.make_difference_image()\n",
    "plt.imshow(d)"
   ],
   "metadata": {
    "collapsed": false,
    "pycharm": {
     "name": "#%%\n"
    }
   },
   "outputs": []
  },
  {
   "cell_type": "code",
   "execution_count": 42,
   "source": [
    "xpos, ypos, colors, neurons = bf.make_computed_image_data()\n",
    "refimg = bf.ops[\"refImg\"]\n",
    "\n",
    "fig = plt.figure(figsize=(12, 12))\n",
    "plt.scatter(xpos, ypos, color=colors, alpha=0.85, s=85, edgecolors=\"none\")\n",
    "plt.imshow(\n",
    "    refimg,\n",
    "    cmap=\"gray\",\n",
    "    alpha=0.85,\n",
    "    vmax=np.percentile(refimg, 99.9),\n",
    "    vmin=np.percentile(refimg, 50),\n",
    ")\n",
    "plt.gca().invert_xaxis()\n",
    "\n",
    "plt.show()"
   ],
   "metadata": {
    "collapsed": false,
    "pycharm": {
     "name": "#%%\n"
    }
   },
   "outputs": []
  },
  {
   "cell_type": "code",
   "execution_count": 43,
   "source": [
    "fishvolume = VizStimVolume()\n",
    "for p in fish_paths:\n",
    "\n",
    "    _ = WorkingFish(\n",
    "        folder_path=p,\n",
    "        legacy=True,\n",
    "        stim_fxn=stimuli.legacy_struct_pandastim_to_df,\n",
    "        stim_fxn_args={\"stimkey\": \"matt\"},\n",
    "    )\n",
    "    fishvolume.add_volume(_)"
   ],
   "metadata": {
    "collapsed": false,
    "pycharm": {
     "name": "#%%\n"
    }
   },
   "outputs": []
  },
  {
   "cell_type": "code",
   "execution_count": 44,
   "source": [
    "xpos, ypos, colors, neurons = fishvolume.volume_computed_image()\n",
    "refimg = fishvolume[2].ops[\"refImg\"]\n",
    "\n",
    "fig = plt.figure(figsize=(12, 12))\n",
    "plt.scatter(xpos, ypos, color=colors, alpha=0.85, s=35, edgecolors=\"none\")\n",
    "plt.imshow(\n",
    "    refimg,\n",
    "    cmap=\"gray\",\n",
    "    alpha=0.85,\n",
    "    vmax=np.percentile(refimg, 99.9),\n",
    "    vmin=np.percentile(refimg, 50),\n",
    ")\n",
    "plt.gca().invert_xaxis()\n",
    "\n",
    "plt.axis(\"off\")\n",
    "plt.margins(x=0, y=0)\n",
    "\n",
    "extent = plt.gca().get_window_extent().transformed(fig.dpi_scale_trans.inverted())\n",
    "\n",
    "plt.show()"
   ],
   "metadata": {
    "collapsed": false,
    "pycharm": {
     "name": "#%%\n"
    }
   },
   "outputs": []
  },
  {
   "cell_type": "code",
   "execution_count": null,
   "source": [],
   "metadata": {
    "collapsed": false,
    "pycharm": {
     "name": "#%%\n"
    }
   },
   "outputs": []
  }
 ],
 "metadata": {
  "kernelspec": {
   "display_name": "Python 3",
   "language": "python",
   "name": "python3"
  },
  "language_info": {
   "codemirror_mode": {
    "name": "ipython",
    "version": 2
   },
   "file_extension": ".py",
   "mimetype": "text/x-python",
   "name": "python",
   "nbconvert_exporter": "python",
   "pygments_lexer": "ipython2",
   "version": "2.7.6"
  }
 },
 "nbformat": 4,
 "nbformat_minor": 0
}
