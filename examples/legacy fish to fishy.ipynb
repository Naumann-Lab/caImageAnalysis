{
 "cells": [
  {
   "cell_type": "code",
   "execution_count": 1,
   "metadata": {
    "collapsed": true,
    "pycharm": {
     "name": "#%%\n"
    }
   },
   "outputs": [],
   "source": [
    "%load_ext autoreload"
   ]
  },
  {
   "cell_type": "code",
   "execution_count": 2,
   "outputs": [],
   "source": [
    "%autoreload 2\n",
    "import numpy as np\n",
    "import pandas as pd\n",
    "import matplotlib.pyplot as plt\n",
    "\n",
    "from tqdm.auto import tqdm\n",
    "from pathlib import Path\n",
    "\n",
    "import os\n",
    "import sys\n",
    "sys.path.append(r'C:\\Users\\matt_analysis\\Documents\\GitHub\\caImageAnalysis')\n",
    "\n",
    "#local imports\n",
    "from fishy import WorkingFish, BaseFish, VizStimVolume, PurgeFish\n",
    "\n",
    "import process\n",
    "import stimuli\n",
    "from constants import monocular_dict, baseBinocs, deg_dict\n",
    "from utilities import arrutils"
   ],
   "metadata": {
    "collapsed": false,
    "pycharm": {
     "name": "#%%\n"
    }
   }
  },
  {
   "cell_type": "code",
   "execution_count": 3,
   "outputs": [],
   "source": [
    "basePath = Path(r'D:\\Data\\Imaging\\2022\\Nov102022_5dpf\\fish4')\n",
    "\n",
    "fish_paths = []\n",
    "with os.scandir(basePath) as entries:\n",
    "    for entry in entries:\n",
    "        if os.path.isdir(entry.path):\n",
    "            fish_paths.append(entry.path)"
   ],
   "metadata": {
    "collapsed": false,
    "pycharm": {
     "name": "#%%\n"
    }
   }
  },
  {
   "cell_type": "code",
   "execution_count": 6,
   "outputs": [
    {
     "data": {
      "text/plain": "['D:\\\\Data\\\\Imaging\\\\2022\\\\Nov102022_5dpf\\\\fish4\\\\img_stack_0',\n 'D:\\\\Data\\\\Imaging\\\\2022\\\\Nov102022_5dpf\\\\fish4\\\\img_stack_1',\n 'D:\\\\Data\\\\Imaging\\\\2022\\\\Nov102022_5dpf\\\\fish4\\\\img_stack_2',\n 'D:\\\\Data\\\\Imaging\\\\2022\\\\Nov102022_5dpf\\\\fish4\\\\img_stack_3',\n 'D:\\\\Data\\\\Imaging\\\\2022\\\\Nov102022_5dpf\\\\fish4\\\\img_stack_4']"
     },
     "execution_count": 6,
     "metadata": {},
     "output_type": "execute_result"
    }
   ],
   "source": [
    "fish_paths"
   ],
   "metadata": {
    "collapsed": false,
    "pycharm": {
     "name": "#%%\n"
    }
   }
  },
  {
   "cell_type": "code",
   "execution_count": 10,
   "outputs": [
    {
     "name": "stdout",
     "output_type": "stream",
     "text": [
      "found and loaded frametimes h5\n"
     ]
    },
    {
     "data": {
      "text/plain": "<fishy.BaseFish at 0x1ed49ae13f0>"
     },
     "execution_count": 10,
     "metadata": {},
     "output_type": "execute_result"
    }
   ],
   "source": [
    "BaseFish(fish_paths[0])"
   ],
   "metadata": {
    "collapsed": false,
    "pycharm": {
     "name": "#%%\n"
    }
   }
  },
  {
   "cell_type": "code",
   "execution_count": null,
   "outputs": [],
   "source": [],
   "metadata": {
    "collapsed": false,
    "pycharm": {
     "name": "#%%\n"
    }
   }
  }
 ],
 "metadata": {
  "kernelspec": {
   "display_name": "Python 3",
   "language": "python",
   "name": "python3"
  },
  "language_info": {
   "codemirror_mode": {
    "name": "ipython",
    "version": 2
   },
   "file_extension": ".py",
   "mimetype": "text/x-python",
   "name": "python",
   "nbconvert_exporter": "python",
   "pygments_lexer": "ipython2",
   "version": "2.7.6"
  }
 },
 "nbformat": 4,
 "nbformat_minor": 0
}