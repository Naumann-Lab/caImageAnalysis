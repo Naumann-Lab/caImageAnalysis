{
 "cells": [
  {
   "cell_type": "code",
   "execution_count": 1,
   "metadata": {
    "pycharm": {
     "is_executing": true,
     "name": "#%%\n"
    }
   },
   "source": [
    "%load_ext autoreload"
   ],
   "outputs": []
  },
  {
   "cell_type": "code",
   "execution_count": 2,
   "metadata": {
    "pycharm": {
     "name": "#%%\n"
    }
   },
   "source": [
    "%autoreload 2\n",
    "\n",
    "import matplotlib.pyplot as plt\n",
    "import numpy as np\n",
    "\n",
    "import sys\n",
    "\n",
    "sys.path.append(r\"C:\\Users\\matt_analysis\\Documents\\GitHub\\caImageAnalysis\")\n",
    "from registration import sitkalignment"
   ],
   "outputs": []
  },
  {
   "cell_type": "code",
   "execution_count": 3,
   "metadata": {
    "pycharm": {
     "name": "#%%\n"
    }
   },
   "source": [
    "paths = [\n",
    "    r\"D:\\Data\\Imaging\\2022\\max_ref_images\\AVG_path01_slice2c.ch2.tif\",\n",
    "    r\"D:\\Data\\Imaging\\2022\\max_ref_images\\AVG_path2_slices_-135_-145d.ch2-0005.tif\",\n",
    "]\n",
    "\n",
    "images = [sitkalignment.load_image(p) for p in paths]"
   ],
   "outputs": []
  },
  {
   "cell_type": "code",
   "execution_count": 4,
   "metadata": {
    "pycharm": {
     "name": "#%%\n"
    }
   },
   "source": [
    "fig, ax = plt.subplots(1, 3, figsize=(14, 6))\n",
    "\n",
    "ax[0].imshow(\n",
    "    images[0],\n",
    "    cmap=\"gray\",\n",
    "    vmax=np.percentile(images[0], 97),\n",
    "    vmin=np.percentile(images[0], 30),\n",
    ")\n",
    "ax[1].imshow(\n",
    "    images[1],\n",
    "    cmap=\"gray\",\n",
    "    vmax=np.percentile(images[1], 97),\n",
    "    vmin=np.percentile(images[1], 30),\n",
    ")\n",
    "\n",
    "[a.axis(\"off\") for a in ax]\n",
    "\n",
    "merge = np.zeros(\n",
    "    (images[0].shape[0], images[0].shape[1], 3)\n",
    ")  # assumes same size images\n",
    "merge[:, :, 0] = 2 * images[0] / images[0].max()\n",
    "merge[:, :, 1] = 2 * images[1] / images[1].max()\n",
    "ax[-1].imshow(merge)\n",
    "\n",
    "[ax[n].set_title(f\"image_{n}\") for n in range(len(ax))]\n",
    "ax[-1].set_title(\"merge\")\n",
    "plt.show()"
   ],
   "outputs": []
  },
  {
   "cell_type": "code",
   "execution_count": 5,
   "metadata": {
    "pycharm": {
     "name": "#%%\n"
    }
   },
   "source": [
    "%%time\n",
    "\n",
    "save_path = r\"D:\\Data\\Imaging\\2022\\max_ref_images\"\n",
    "registered_image = sitkalignment.register_image2(images[0], images[1], save_path)"
   ],
   "outputs": []
  },
  {
   "cell_type": "code",
   "execution_count": 6,
   "metadata": {
    "pycharm": {
     "name": "#%%\n"
    }
   },
   "source": [
    "fig, ax = plt.subplots(1, 3, figsize=(14, 6))\n",
    "\n",
    "ax[0].imshow(\n",
    "    images[0],\n",
    "    cmap=\"gray\",\n",
    "    vmax=np.percentile(images[0], 97),\n",
    "    vmin=np.percentile(images[0], 30),\n",
    ")\n",
    "ax[1].imshow(\n",
    "    registered_image,\n",
    "    cmap=\"gray\",\n",
    "    vmax=np.percentile(registered_image, 97),\n",
    "    vmin=np.percentile(registered_image, 30),\n",
    ")\n",
    "\n",
    "[a.axis(\"off\") for a in ax]\n",
    "\n",
    "merge = np.zeros(\n",
    "    (images[0].shape[0], images[0].shape[1], 3)\n",
    ")  # assumes same size images\n",
    "merge[:, :, 0] = 2 * images[0] / images[0].max()\n",
    "merge[:, :, 1] = 2 * registered_image / registered_image.max()\n",
    "ax[-1].imshow(merge)\n",
    "\n",
    "[ax[n].set_title(f\"image_{n}\") for n in range(len(ax))]\n",
    "ax[-1].set_title(\"merge\")\n",
    "plt.show()"
   ],
   "outputs": []
  },
  {
   "cell_type": "code",
   "execution_count": 7,
   "metadata": {
    "pycharm": {
     "name": "#%%\n"
    }
   },
   "source": [
    "%%time\n",
    "\n",
    "mypoints = [(200, 300), (250, 100), (50, 50), (100, 27), (35, 390)]\n",
    "sitkalignment.transform_points(save_path, mypoints)"
   ],
   "outputs": []
  },
  {
   "cell_type": "code",
   "execution_count": null,
   "metadata": {
    "pycharm": {
     "name": "#%%\n"
    }
   },
   "source": [],
   "outputs": []
  }
 ],
 "metadata": {
  "kernelspec": {
   "display_name": "Python 3",
   "language": "python",
   "name": "python3"
  },
  "language_info": {
   "codemirror_mode": {
    "name": "ipython",
    "version": 3
   },
   "file_extension": ".py",
   "mimetype": "text/x-python",
   "name": "python",
   "nbconvert_exporter": "python",
   "pygments_lexer": "ipython3",
   "version": "3.7.6"
  }
 },
 "nbformat": 4,
 "nbformat_minor": 4
}
