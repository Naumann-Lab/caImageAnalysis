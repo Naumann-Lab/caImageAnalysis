{
 "cells": [
  {
   "cell_type": "markdown",
   "id": "6ccf5667",
   "metadata": {},
   "source": [
    "# load imports"
   ]
  },
  {
   "cell_type": "code",
   "execution_count": 8,
   "id": "3b337430",
   "metadata": {
    "ExecuteTime": {
     "end_time": "2024-04-23T18:33:46.308004Z",
     "start_time": "2024-04-23T18:33:46.304656Z"
    }
   },
   "outputs": [],
   "source": [
    "%load_ext autoreload"
   ]
  },
  {
   "cell_type": "code",
   "execution_count": 9,
   "id": "1a63d9f1",
   "metadata": {
    "ExecuteTime": {
     "end_time": "2024-04-23T18:33:47.274807Z",
     "start_time": "2024-04-23T18:33:47.270667Z"
    }
   },
   "outputs": [],
   "source": [
    "import warnings \n",
    "def action_with_warnings():\n",
    "    warnings.warn(\"ignore\")\n",
    "with warnings.catch_warnings(record=True):    \n",
    "    from pathlib import Path\n",
    "    import os\n",
    "    import pandas as pd\n",
    "    from tifffile import imread, imwrite\n",
    "    import glob\n",
    "    import caiman as cm\n",
    "    \n",
    "from datetime import datetime as dt, timedelta\n",
    "import matplotlib.pyplot as plt\n",
    "import matplotlib\n",
    "\n",
    "import seaborn as sns\n",
    "\n",
    "from tqdm.auto import tqdm\n",
    "import numpy as np\n",
    "\n",
    "import scipy\n",
    "\n",
    "from PIL import Image\n",
    "import xml.etree.ElementTree as et"
   ]
  },
  {
   "cell_type": "code",
   "execution_count": 10,
   "id": "0199e12c",
   "metadata": {
    "ExecuteTime": {
     "end_time": "2024-04-23T18:33:51.347797Z",
     "start_time": "2024-04-23T18:33:48.920388Z"
    }
   },
   "outputs": [],
   "source": [
    "%autoreload \n",
    "import sys\n",
    "sys.path.append(r'/home/gromit/anaconda3/envs/caiman/lib/python3.10/site-packages/caImageAnalysis')\n",
    "import process, bruker_images, photostimulation\n",
    "from utilities import arrutils, statutils, coordutils\n",
    "from fishy import BaseFish, PhotostimFish, VizStimVolume"
   ]
  },
  {
   "cell_type": "markdown",
   "id": "f4bfddb3",
   "metadata": {},
   "source": [
    "# setting up variables"
   ]
  },
  {
   "cell_type": "code",
   "execution_count": 31,
   "id": "74f11959",
   "metadata": {},
   "outputs": [],
   "source": [
    "/media/gromit/124d7bfb-0e91-4cf0-8c38-dc3142188881/\n",
    "photostim_data = Path(r'/media/gromit/124d7bfb-0e91-4cf0-8c38-dc3142188881/Binblows-Share/Tyler-Style Sweep/16 March/TSeries-03162024-1620-001')\n",
    "\n",
    "photostim_data = Path(r'D:\\Imaging_Bruker\\20240115_singlecell_stim_habenula\\Chrmine_fish2\\testing_tyler_params_2-001')\n",
    "\n"
   ]
  },
  {
   "cell_type": "markdown",
   "id": "20ee88e6",
   "metadata": {},
   "source": [
    "# preprocessing, if a single plane:"
   ]
  },
  {
   "cell_type": "code",
   "execution_count": 32,
   "id": "93b69800",
   "metadata": {},
   "outputs": [],
   "source": [
    "if not Path(photostim_data).joinpath('output_folders').exists():\n",
    "    bruker_images.bruker_img_organization(photostim_data, testkey = 'ome', single_plane = True, pstim_file=False)"
   ]
  },
  {
   "cell_type": "code",
   "execution_count": 40,
   "id": "f2faa2e2",
   "metadata": {},
   "outputs": [],
   "source": [
    "fld = Path(photostim_data).joinpath('output_folders/single_plane')\n",
    "\n",
    "baseFish = BaseFish(folder_path = fld, frametimes_key = 'frametimes')\n",
    "process.run_image_rotation(baseFish, angle = 90, crop = 0) #fixing image rotation, needs to happen before movement corr\n",
    "process.run_movement_correction(baseFish, force = True)\n",
    "\n",
    "baseFish = BaseFish(folder_path = fld, frametimes_key = 'frametimes') # refresh data_paths\n",
    "photostimulation.save_badframes_arr(baseFish, no_planes = 1)\n",
    "photostimulation.run_suite2p_PS(baseFish, move_corr = True)"
   ]
  },
  {
   "cell_type": "markdown",
   "id": "c60ad27a",
   "metadata": {},
   "source": [
    "making a PhotostimFish object for single plane"
   ]
  },
  {
   "cell_type": "code",
   "execution_count": 50,
   "id": "69b291b6",
   "metadata": {},
   "outputs": [],
   "source": [
    "oneFish = PhotostimFish(folder_path = fld, \n",
    "                        no_planes = 1, \n",
    "                        stimmed_planes = [1],\n",
    "                        rotate = True, \n",
    "                        frametimes_key = 'frametimes')"
   ]
  },
  {
   "cell_type": "markdown",
   "id": "e8b28358",
   "metadata": {},
   "source": [
    "# preprocessing, if a volume:"
   ]
  },
  {
   "cell_type": "code",
   "execution_count": null,
   "id": "d385529e",
   "metadata": {},
   "outputs": [],
   "source": [
    "# run pre-processing if not done already\n",
    "\n",
    "if not Path(photostim_data).joinpath('output_folders').exists():\n",
    "    bruker_images.bruker_img_organization(photostim_data, testkey = 'ome', single_plane=False, pstim_file=False)"
   ]
  },
  {
   "cell_type": "code",
   "execution_count": 5,
   "id": "faae8371",
   "metadata": {},
   "outputs": [],
   "source": [
    "# to look at all the planes of the volume\n",
    "paths = {}\n",
    "with os.scandir(Path(photostim_data).joinpath('output_folders')) as entries:\n",
    "    for entry in entries:\n",
    "        if os.path.isdir(entry.path):\n",
    "            paths[entry.name] = entry.path\n",
    "number_of_planes = len(paths.keys())\n",
    "\n",
    "# still pre_processing here:\n",
    "for p in tqdm(paths.keys()):\n",
    "    baseFish = BaseFish(folder_path = paths[p], frametimes_key = 'frametimes')\n",
    "    process.run_image_rotation(baseFish, angle = 90, crop = 0) #fixing image rotation, needs to happen before movement corr\n",
    "    process.run_movement_correction(baseFish, force = True)\n",
    "    \n",
    "    baseFish = BaseFish(folder_path = paths[p], frametimes_key = 'frametimes') # refresh data_paths\n",
    "    photostimulation.save_badframes_arr(baseFish, no_planes = number_of_planes)\n",
    "    photostimulation.run_suite2p_PS(baseFish, move_corr = True)"
   ]
  },
  {
   "cell_type": "markdown",
   "id": "51f698ea",
   "metadata": {},
   "source": [
    "make a fish volume object for the photostim data"
   ]
  },
  {
   "cell_type": "code",
   "execution_count": null,
   "id": "37ce4368",
   "metadata": {},
   "outputs": [],
   "source": [
    "# to gather all the planes of the volume\n",
    "paths = {}\n",
    "with os.scandir(Path(photostim_data).joinpath('output_folders')) as entries:\n",
    "    for entry in entries:\n",
    "        if os.path.isdir(entry.path):\n",
    "            paths[entry.name] = entry.path\n",
    "number_of_planes = len(paths.keys())"
   ]
  },
  {
   "cell_type": "code",
   "execution_count": 18,
   "id": "8d61435b",
   "metadata": {},
   "outputs": [],
   "source": [
    "# make central vol processing class and identify stim sites, raw traces for stim sites\n",
    "stimvolume = VizStimVolume()\n",
    "\n",
    "# identify the planes that were stimulated from the OMR dataset that I have\n",
    "the_stimmed_planes = photostimulation.identify_stimmed_planes(omr_tseries_path, label)\n",
    "\n",
    "for p in tqdm(paths.keys()):  \n",
    "    oneFish = PhotostimFish(folder_path = paths[p], \n",
    "                            no_planes = number_of_planes, \n",
    "                            stimmed_planes = the_stimmed_planes,\n",
    "                            rotate = True, \n",
    "                            frametimes_key = 'frametimes')\n",
    "    stimvolume.add_volume(oneFish)  # add them to volume    "
   ]
  },
  {
   "cell_type": "markdown",
   "id": "0135af69",
   "metadata": {},
   "source": [
    "# ex 1) plot raw pixel traces for the stimulated sites in a volume"
   ]
  },
  {
   "cell_type": "code",
   "execution_count": 17,
   "id": "b9bf6645",
   "metadata": {},
   "outputs": [],
   "source": [
    "# for plotting only the stimulated sites\n",
    "all_raw_traces = {}\n",
    "all_points = {}\n",
    "for x, y in stimvolume.volumes.items():\n",
    "    raw_traces, points = photostimulation.collect_raw_traces(y)\n",
    "    # plotting the ps events\n",
    "    ps_events = np.load(Path(y.folder_path.joinpath('bad_frames.npy')))\n",
    "    if x not in all_raw_traces.keys():\n",
    "        all_raw_traces[x] = raw_traces\n",
    "        all_points[x] = points\n",
    "\n",
    "plt.imshow(stimvolume.volumes['plane_2'].ops['refImg'], cmap=\"gray\", alpha=0.85, \n",
    "        vmax=np.percentile(stimvolume.volumes['plane_2'].ops['refImg'], 99.9))\n",
    "for k in all_points.values():\n",
    "    for l in k:\n",
    "        plt.scatter(l[0], l[1])\n",
    "plt.axis('off')\n",
    "plt.title(f'Stimulation Sites for {label} group')\n",
    "plt.tight_layout()\n",
    "plt.show()\n",
    "\n",
    "cell_list = []\n",
    "for c in all_raw_traces.values():\n",
    "    if len(c) != 0: # if not empty array\n",
    "        norm_c = arrutils.norm_fdff(c)\n",
    "        for cell in norm_c: # for each cell in c, make a cell array of stim cells\n",
    "            cell_list.append(cell)\n",
    "\n",
    "plt.figure(figsize=(12, 8))\n",
    "for w, x in enumerate(cell_list):\n",
    "    plt.plot(np.arange(len(x)), arrutils.pretty(x, 5)+ w)\n",
    "for f in ps_events:\n",
    "    plt.axvspan(xmin = f-3, xmax = f-2, color = 'red', alpha = 0.4)\n",
    "plt.yticks([])\n",
    "plt.ylabel('Normalized Raw Pixel Intensity (F)')\n",
    "plt.xlabel('Frames')\n",
    "plt.title(f'Raw pixel traces for stimulation sites in {label} group')\n",
    "plt.tight_layout()\n",
    "plt.show()    if 'suite2p' in self.data_paths.keys():\n",
    "            self.load_suite2p() # loads in suite2p paths \n",
    "            self.rescaled_img()   "
   ]
  },
  {
   "cell_type": "markdown",
   "id": "b002d903",
   "metadata": {},
   "source": [
    "# ex 2) finding correlation values between stimulation sites and cells in a volume"
   ]
  },
  {
   "cell_type": "code",
   "execution_count": 25,
   "id": "7674866b",
   "metadata": {},
   "outputs": [],
   "source": [
    "stim_traces_lst = []\n",
    "for v in stimvolume:\n",
    "    saved_raw_traces = Path(v.folder_path).joinpath('raw_traces.npy') \n",
    "    if np.load(saved_raw_traces).shape[0] != 0:\n",
    "        stim_traces_lst.append(np.load(saved_raw_traces))\n",
    "\n",
    "stim_traces_array = np.concatenate(stim_traces_lst, axis=0) # grab all raw traces together\n",
    "sliced_stim_arrays = [x[stimvolume[0].baseline_frames:] for x in stim_traces_array] # only select after baseline time points\n",
    "arrays = np.vstack(sliced_stim_arrays)\n",
    "\n",
    "# calculate the correlation values between all 10 of the stimmed neurons\n",
    "correlation_matrix = np.corrcoef(arrays) \n",
    "correlation_matrix[correlation_matrix == 1] = np.nan\n",
    " # this will be your divider (normalizing value) in the correlation df\n",
    "divider = np.nanmean(correlation_matrix)\n",
    "\n",
    "# running this full array of raw traces through the correlation analysis\n",
    "for v in stimvolume:\n",
    "    corr_df, corr_neurons = photostimulation.correlations_with_stim_sites(v, traces_array = stim_traces_array, \n",
    "                                                                        normalizing = divider, corr_threshold = 0.5)"
   ]
  },
  {
   "cell_type": "code",
   "execution_count": null,
   "id": "83d04e60",
   "metadata": {},
   "outputs": [],
   "source": []
  },
  {
   "cell_type": "markdown",
   "id": "15b72c13",
   "metadata": {},
   "source": [
    "# ex 3) plotting the heatmap of each trial of 1 normalized stimulation sites at a time"
   ]
  },
  {
   "cell_type": "code",
   "execution_count": null,
   "id": "5455489f",
   "metadata": {},
   "outputs": [],
   "source": [
    "big_corr_df_lst = []\n",
    "raw_traces_arr_lst = []\n",
    "\n",
    "for v in stimvolume:\n",
    "    # get the correlation dfs\n",
    "    corr_df = pd.read_hdf(Path(v.folder_path).joinpath('correlation_df.hdf'))\n",
    "    corr_df['plane'] = v.data_paths['suite2p'].parents[1].name\n",
    "    big_corr_df_lst.append(corr_df)\n",
    "\n",
    "    # get the raw traces of each stimulation site\n",
    "    raw_traces_arr = np.load(v.folder_path.joinpath('raw_traces.npy')) \n",
    "    raw_traces_arr_lst.append(raw_traces_arr)\n",
    "\n",
    "big_corr_df = pd.concat(big_corr_df_lst)\n",
    "stim_raw_traces = np.concatenate(raw_traces_arr_lst, axis = 0)\n",
    "norm_stim_raw_traces = arrutils.norm_0to1(stim_raw_traces)"
   ]
  },
  {
   "cell_type": "code",
   "execution_count": null,
   "id": "0a92f7bb",
   "metadata": {},
   "outputs": [],
   "source": [
    "offsets = [-7, 25]\n",
    "frame_subset = arrutils.subsection_arrays(ps_events, offsets) # frame numbers for each event\n",
    "\n",
    "for x, y in enumerate(norm_stim_raw_traces):\n",
    "    # iterate through each photostimulation event, then grab the frames before and after each event\n",
    "    each_trial = np.array([y[s] for s in frame_subset])\n",
    "\n",
    "    # plot heatmap for each trial\n",
    "    plt.figure(figsize=(10, 3))\n",
    "    sns.heatmap(each_trial, cmap = 'viridis', vmin = 0, vmax = 1, xticklabels = 10)\n",
    "    plt.axvspan(xmin = -offsets[0]-1, xmax = -offsets[0]-1, color = 'red', alpha = 0.8)\n",
    "    plt.xlabel('Frames')\n",
    "    plt.ylabel('Stimulation Events')\n",
    "    plt.title(f'Example stimulation site #{x}')\n",
    "    plt.show()\n",
    "\n",
    "    # plot average trace for the cell\n",
    "    data_mean = np.nanmean(each_trial, axis = 0)\n",
    "    ci_lower, ci_upper = statutils.calculate_ci(each_trial)\n",
    "    plt.figure(figsize=(8, 3))\n",
    "    plt.plot(data_mean, color = 'k')\n",
    "    plt.fill_between(range(len(data_mean)), ci_lower, ci_upper, color='skyblue', \n",
    "                     alpha=0.4, label='95% CI')  # Shade confidence interval\n",
    "    plt.axvspan(xmin = -offsets[0]-1, xmax = -offsets[0], color = 'red', alpha = 0.4)\n",
    "    plt.xlabel('Frames')\n",
    "    plt.ylabel('Normalized Pixel Intensity')\n",
    "    plt.ylim(0, 0.8)\n",
    "    plt.title(f'Mean evoked dF/F for stimulation site #{x}')\n",
    "    plt.show()"
   ]
  },
  {
   "cell_type": "markdown",
   "id": "2a04b6be",
   "metadata": {},
   "source": [
    "# ex 4) plotting single plane stimulation sites and image"
   ]
  },
  {
   "cell_type": "code",
   "execution_count": 51,
   "id": "de18fa5c",
   "metadata": {},
   "outputs": [],
   "source": [
    "# plotting the locations\n",
    "img = oneFish.ops[\"refImg\"]\n",
    "ps_events = oneFish.badframes_arr\n",
    "\n",
    "plt.imshow(img, cmap=\"gray\", alpha=0.85, vmax=np.percentile(img, 99.9))\n",
    "for point in zip(oneFish.stim_sites_df.x_stim, oneFish.stim_sites_df.y_stim):\n",
    "    plt.scatter(point[0], point[1])\n",
    "plt.axis('off')\n",
    "plt.tight_layout()\n",
    "plt.show()\n",
    "\n",
    "# plotting the raw traces with the baselines\n",
    "for b, c in enumerate(oneFish.raw_traces):\n",
    "    plt.plot(np.arange(len(oneFish.raw_traces[b])), arrutils.pretty(c, 5))\n",
    "for f in ps_events:\n",
    "    plt.axvspan(xmin = f-3, xmax = f-2, color = 'red', alpha = 0.4)\n",
    "plt.xlabel('Frames')\n",
    "plt.ylabel('Pixel Intensity (F)')\n",
    "\n",
    "plt.tight_layout()\n",
    "plt.show()\n",
    "\n",
    "# plotting the averaged raw traces per stimulation\n",
    "duration_in_frames = 1\n",
    "pre = 10\n",
    "post = 30\n",
    "len_array = pre + post + duration_in_frames\n",
    "array_per_trial = np.full((len(ps_events), len_array), np.nan)\n",
    "\n",
    "for q, p in enumerate(ps_events):\n",
    "    nested_trace = oneFish.raw_traces[:, p - pre : p + duration_in_frames + post]\n",
    "    trace = [item for sublist in nested_trace for item in sublist]\n",
    "    baseline_mean = np.nanmean(trace[5:pre])\n",
    "    if p == ps_events[-1]:\n",
    "        array_per_trial[q, :len(trace)] = trace/baseline_mean\n",
    "    else:\n",
    "        array_per_trial[q] = trace/baseline_mean\n",
    "\n",
    "mean_trace = np.nanmedian(array_per_trial, axis=0)\n",
    "std_trace = np.nanstd(array_per_trial, axis=0)\n",
    "for a in array_per_trial:\n",
    "    plt.plot(arrutils.pretty(a, 3))\n",
    "plt.plot(mean_trace, color='k', linewidth=3)\n",
    "plt.axvspan(xmin = pre, xmax = pre + duration_in_frames, color = 'red', alpha = 0.4)\n",
    "plt.xlim(3, 38)\n",
    "# plt.ylim(35, 75)\n",
    "current_ticks = plt.xticks()[0]\n",
    "current_labels = [float(label) for label in current_ticks]\n",
    "new_labels = [int(c/oneFish.hzReturner(oneFish.frametimes_df)) for c in current_labels]\n",
    "plt.xticks(current_ticks, new_labels)\n",
    "\n",
    "plt.title('14 Trials, Single Cell Stim (black trace = median)')\n",
    "plt.xlabel('Time(s)')\n",
    "plt.ylabel('Normalized Pixel Intensity (dF/F)')\n",
    "\n",
    "plt.tight_layout()\n",
    "plt.show()"
   ]
  },
  {
   "cell_type": "code",
   "execution_count": null,
   "id": "331d766c",
   "metadata": {},
   "outputs": [],
   "source": []
  }
 ],
 "metadata": {
  "kernelspec": {
   "display_name": "Python 3 (ipykernel)",
   "language": "python",
   "name": "python3"
  },
  "language_info": {
   "codemirror_mode": {
    "name": "ipython",
    "version": 3
   },
   "file_extension": ".py",
   "mimetype": "text/x-python",
   "name": "python",
   "nbconvert_exporter": "python",
   "pygments_lexer": "ipython3",
   "version": "3.7.10"
  }
 },
 "nbformat": 4,
 "nbformat_minor": 5
}
