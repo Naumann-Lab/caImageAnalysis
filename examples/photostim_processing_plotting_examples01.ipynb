{
 "cells": [
  {
   "cell_type": "markdown",
   "id": "6ccf5667",
   "metadata": {},
   "source": [
    "# load imports"
   ]
  },
  {
   "cell_type": "code",
   "execution_count": 5,
   "id": "3b337430",
   "metadata": {
    "ExecuteTime": {
     "end_time": "2024-05-01T17:58:50.445388Z",
     "start_time": "2024-05-01T17:58:50.359428Z"
    }
   },
   "source": [
    "%load_ext autoreload"
   ],
   "outputs": []
  },
  {
   "cell_type": "code",
   "execution_count": 6,
   "id": "28a3fd8c5f9972fa",
   "metadata": {
    "ExecuteTime": {
     "end_time": "2024-05-01T17:58:50.486297Z",
     "start_time": "2024-05-01T17:58:50.480110Z"
    }
   },
   "source": [
    "import torch\n",
    "print(torch.cuda.is_available())\n"
   ],
   "outputs": []
  },
  {
   "cell_type": "code",
   "execution_count": 80,
   "id": "1a63d9f1",
   "metadata": {
    "ExecuteTime": {
     "end_time": "2024-05-01T17:58:51.463482Z",
     "start_time": "2024-05-01T17:58:51.267733Z"
    }
   },
   "source": [
    "import warnings \n",
    "def action_with_warnings():\n",
    "    warnings.warn(\"ignore\")\n",
    "with warnings.catch_warnings(record=True):    \n",
    "    from pathlib import Path\n",
    "    import os\n",
    "    import pandas as pd\n",
    "    from tifffile import imread, imwrite\n",
    "    import glob\n",
    "    import caiman as cm\n",
    "    \n",
    "from datetime import datetime as dt, timedelta\n",
    "import matplotlib.pyplot as plt\n",
    "import matplotlib\n",
    "\n",
    "import seaborn as sns\n",
    "\n",
    "from tqdm.auto import tqdm\n",
    "import numpy as np\n",
    "\n",
    "import scipy\n",
    "\n",
    "from PIL import Image\n",
    "import xml.etree.ElementTree as et\n",
    "import copy"
   ],
   "outputs": []
  },
  {
   "cell_type": "code",
   "execution_count": 8,
   "id": "bd64828536942cb7",
   "metadata": {},
   "source": [
    "import sys\n",
    "sys.version"
   ],
   "outputs": []
  },
  {
   "cell_type": "code",
   "execution_count": 9,
   "id": "0199e12c",
   "metadata": {
    "ExecuteTime": {
     "end_time": "2024-05-01T17:58:52.299535Z",
     "start_time": "2024-05-01T17:58:51.503653Z"
    }
   },
   "source": [
    "%autoreload \n",
    "import sys\n",
    "sys.path.append(r'/home/gromit/anaconda3/envs/kaiman/lib/python3.7/site-packages/caImageAnalysis')\n",
    "import process, bruker_images, photostimulation\n",
    "from utilities import arrutils, statutils, coordutils\n",
    "from fishy import BaseFish, PhotostimFish, VizStimVolume"
   ],
   "outputs": []
  },
  {
   "cell_type": "markdown",
   "id": "f4bfddb3",
   "metadata": {},
   "source": [
    "# setting up variables"
   ]
  },
  {
   "cell_type": "code",
   "execution_count": 10,
   "id": "74f11959",
   "metadata": {},
   "source": [
    "#/media/gromit/124d7bfb-0e91-4cf0-8c38-dc3142188881/\n",
    "#\n",
    "photostim_data = Path(r'/media/gromit/124d7bfb-0e91-4cf0-8c38-dc3142188881/Binblows-Share/Tyler-Style Sweep/16 March/TSeries-03162024-1620-001')\n",
    "\n",
    "#photostim_data = Path(r'D:\\Imaging_Bruker\\20240115_singlecell_stim_habenula\\Chrmine_fish2\\testing_tyler_params_2-001')\n",
    "\n"
   ],
   "outputs": []
  },
  {
   "cell_type": "markdown",
   "id": "20ee88e6",
   "metadata": {},
   "source": [
    "# preprocessing, if a single plane:"
   ]
  },
  {
   "cell_type": "code",
   "execution_count": 32,
   "id": "93b69800",
   "metadata": {
    "ExecuteTime": {
     "end_time": "2024-05-01T17:58:53.055561Z",
     "start_time": "2024-05-01T17:58:53.049225Z"
    }
   },
   "source": [
    "if not Path(photostim_data).joinpath('output_folders').exists():\n",
    "    bruker_images.bruker_img_organization(photostim_data, testkey = 'ome', single_plane = True, pstim_file=False)"
   ],
   "outputs": []
  },
  {
   "cell_type": "code",
   "execution_count": 12,
   "id": "f2faa2e2",
   "metadata": {
    "ExecuteTime": {
     "end_time": "2024-05-01T17:58:53.604603Z",
     "start_time": "2024-05-01T17:58:53.593518Z"
    }
   },
   "source": [
    "fld = Path(photostim_data).joinpath('output_folders/single_plane')\n",
    "\n"
   ],
   "outputs": []
  },
  {
   "cell_type": "code",
   "execution_count": null,
   "id": "a1b67b5d",
   "metadata": {},
   "source": [
    "baseFish = BaseFish(folder_path = fld, frametimes_key = 'frametimes')\n"
   ],
   "outputs": []
  },
  {
   "cell_type": "code",
   "execution_count": 34,
   "id": "e7d761bb-af86-4f37-9f24-f8a26b2e6488",
   "metadata": {},
   "source": [
    "process.run_image_rotation(baseFish, angle = 90, crop = 0) #fixing image rotation, needs to happen before movement corr\n",
    "#caiman\n",
    "process.run_movement_correction(baseFish, force = True)\n",
    "\n",
    "baseFish = BaseFish(folder_path = fld, frametimes_key = 'frametimes') # refresh data_paths\n",
    "#photostimulation.save_badframes_arr(baseFish, no_planes = 1)\n",
    "#suite2p\n",
    "#photostimulation.run_caiman_cnmf(baseFish, move_corr = True)\n"
   ],
   "outputs": []
  },
  {
   "cell_type": "code",
   "execution_count": null,
   "id": "b9d86f96-b220-42e6-ac0a-5f254fc0d355",
   "metadata": {},
   "source": [
    "        with os.scandir(photostim_data) as entries:\n",
    "            for entry in entries:\n",
    "                if entry.name.endswith(\".tif\"):\n",
    "                    pass\n",
    "\n",
    "                elif entry.name.endswith(\".txt\"):\n",
    "                    pass\n",
    "                elif entry.name == \"frametimes.h5\":\n",
    "                        pass\n",
    "\n",
    "                elif os.path.isdir(entry.path):\n",
    "                   pass\n",
    "\n",
    "                elif entry.name.endswith(\".npy\"): # these are mislabeled so just flip here\n",
    "                    pass\n",
    "                \n",
    "                # bruker information files\n",
    "                elif entry.name.endswith(\"xml\"):\n",
    "                   pass\n",
    "                elif entry.name.endswith(\"env\"):\n",
    "                    pass\n",
    "                elif entry.name.endswith(\"csv\") and 'Voltage' in entry.name:\n",
    "                    pass\n",
    "                #this will use Owen custom photostim output from Bruker2pControl in lieu of MarkPoints xml\n",
    "                elif entry.name.endswith(\"json\") and 'photostim' in entry.name:\n",
    "                    print(\"located json\")\n"
   ],
   "outputs": []
  },
  {
   "cell_type": "code",
   "execution_count": null,
   "id": "7eda3cd6-47e7-40eb-822f-2900a4d71089",
   "metadata": {},
   "source": [
    "%matplotlib\n"
   ],
   "outputs": []
  },
  {
   "cell_type": "code",
   "execution_count": 21,
   "id": "932c2417-e227-4576-a7dd-9b2dba6e2d4b",
   "metadata": {},
   "source": [
    "%autoreload\n",
    "photostimulation.run_suite2p_PS(baseFish, move_corr = True)"
   ],
   "outputs": []
  },
  {
   "cell_type": "markdown",
   "id": "c60ad27a",
   "metadata": {},
   "source": [
    "making a PhotostimFish object for single plane"
   ]
  },
  {
   "cell_type": "code",
   "execution_count": 14,
   "id": "69b291b6",
   "metadata": {},
   "source": [
    "%autoreload\n",
    "oneFish = PhotostimFish(folder_path = fld, \n",
    "                        no_planes = 1, \n",
    "                        stimmed_planes = [1],\n",
    "                        rotate = True, \n",
    "                        frametimes_key = 'frametimes')"
   ],
   "outputs": []
  },
  {
   "cell_type": "markdown",
   "id": "e8b28358",
   "metadata": {},
   "source": [
    "# preprocessing, if a volume:"
   ]
  },
  {
   "cell_type": "code",
   "execution_count": null,
   "id": "d385529e",
   "metadata": {},
   "source": [
    "# run pre-processing if not done already\n",
    "\n",
    "if not Path(photostim_data).joinpath('output_folders').exists():\n",
    "    bruker_images.bruker_img_organization(photostim_data, testkey = 'ome', single_plane=False, pstim_file=False)"
   ],
   "outputs": []
  },
  {
   "cell_type": "code",
   "execution_count": 5,
   "id": "faae8371",
   "metadata": {},
   "source": [
    "# to look at all the planes of the volume\n",
    "paths = {}\n",
    "with os.scandir(Path(photostim_data).joinpath('output_folders')) as entries:\n",
    "    for entry in entries:\n",
    "        if os.path.isdir(entry.path):\n",
    "            paths[entry.name] = entry.path\n",
    "number_of_planes = len(paths.keys())\n",
    "\n",
    "# still pre_processing here:\n",
    "for p in tqdm(paths.keys()):\n",
    "    baseFish = BaseFish(folder_path = paths[p], frametimes_key = 'frametimes')\n",
    "    process.run_image_rotation(baseFish, angle = 90, crop = 0) #fixing image rotation, needs to happen before movement corr\n",
    "    process.run_movement_correction(baseFish, force = True)\n",
    "    \n",
    "    baseFish = BaseFish(folder_path = paths[p], frametimes_key = 'frametimes') # refresh data_paths\n",
    "    photostimulation.save_badframes_arr(baseFish, no_planes = number_of_planes)\n",
    "    photostimulation.run_suite2p_PS(baseFish, move_corr = True)"
   ],
   "outputs": []
  },
  {
   "cell_type": "markdown",
   "id": "51f698ea",
   "metadata": {},
   "source": [
    "make a fish volume object for the photostim data"
   ]
  },
  {
   "cell_type": "code",
   "execution_count": null,
   "id": "37ce4368",
   "metadata": {},
   "source": [
    "# to gather all the planes of the volume\n",
    "paths = {}\n",
    "with os.scandir(Path(photostim_data).joinpath('output_folders')) as entries:\n",
    "    for entry in entries:\n",
    "        if os.path.isdir(entry.path):\n",
    "            paths[entry.name] = entry.path\n",
    "number_of_planes = len(paths.keys())"
   ],
   "outputs": []
  },
  {
   "cell_type": "code",
   "execution_count": 18,
   "id": "8d61435b",
   "metadata": {},
   "source": [
    "# make central vol processing class and identify stim sites, raw traces for stim sites\n",
    "stimvolume = VizStimVolume()\n",
    "\n",
    "# identify the planes that were stimulated from the OMR dataset that I have\n",
    "the_stimmed_planes = photostimulation.identify_stimmed_planes(omr_tseries_path, label)\n",
    "\n",
    "for p in tqdm(paths.keys()):  \n",
    "    oneFish = PhotostimFish(folder_path = paths[p], \n",
    "                            no_planes = number_of_planes, \n",
    "                            stimmed_planes = the_stimmed_planes,\n",
    "                            rotate = True, \n",
    "                            frametimes_key = 'frametimes')\n",
    "    stimvolume.add_volume(oneFish)  # add them to volume    "
   ],
   "outputs": []
  },
  {
   "cell_type": "markdown",
   "id": "0135af69",
   "metadata": {},
   "source": [
    "# ex 1) plot raw pixel traces for the stimulated sites in a volume"
   ]
  },
  {
   "cell_type": "code",
   "execution_count": 17,
   "id": "b9bf6645",
   "metadata": {},
   "source": [
    "# for plotting only the stimulated sites\n",
    "all_raw_traces = {}\n",
    "all_points = {}\n",
    "for x, y in stimvolume.volumes.items():\n",
    "    raw_traces, points = photostimulation.collect_raw_traces(y)\n",
    "    # plotting the ps events\n",
    "    ps_events = np.load(Path(y.folder_path.joinpath('bad_frames.npy')))\n",
    "    if x not in all_raw_traces.keys():\n",
    "        all_raw_traces[x] = raw_traces\n",
    "        all_points[x] = points\n",
    "\n",
    "plt.imshow(stimvolume.volumes['plane_2'].ops['refImg'], cmap=\"gray\", alpha=0.85, \n",
    "        vmax=np.percentile(stimvolume.volumes['plane_2'].ops['refImg'], 99.9))\n",
    "for k in all_points.values():\n",
    "    for l in k:\n",
    "        plt.scatter(l[0], l[1])\n",
    "plt.axis('off')\n",
    "plt.title(f'Stimulation Sites for {label} group')\n",
    "plt.tight_layout()\n",
    "plt.show()\n",
    "\n",
    "cell_list = []\n",
    "for c in all_raw_traces.values():\n",
    "    if len(c) != 0: # if not empty array\n",
    "        norm_c = arrutils.norm_fdff(c)\n",
    "        for cell in norm_c: # for each cell in c, make a cell array of stim cells\n",
    "            cell_list.append(cell)\n",
    "\n",
    "plt.figure(figsize=(12, 8))\n",
    "for w, x in enumerate(cell_list):\n",
    "    plt.plot(np.arange(len(x)), arrutils.pretty(x, 5)+ w)\n",
    "for f in ps_events:\n",
    "    plt.axvspan(xmin = f-3, xmax = f-2, color = 'red', alpha = 0.4)\n",
    "plt.yticks([])\n",
    "plt.ylabel('Normalized Raw Pixel Intensity (F)')\n",
    "plt.xlabel('Frames')\n",
    "plt.title(f'Raw pixel traces for stimulation sites in {label} group')\n",
    "plt.tight_layout()\n",
    "plt.show()  "
   ],
   "outputs": []
  },
  {
   "cell_type": "markdown",
   "id": "b002d903",
   "metadata": {},
   "source": [
    "# ex 2) finding correlation values between stimulation sites and cells in a volume"
   ]
  },
  {
   "cell_type": "code",
   "execution_count": 25,
   "id": "7674866b",
   "metadata": {},
   "source": [
    "stim_traces_lst = []\n",
    "for v in stimvolume:\n",
    "    saved_raw_traces = Path(v.folder_path).joinpath('raw_traces.npy') \n",
    "    if np.load(saved_raw_traces).shape[0] != 0:\n",
    "        stim_traces_lst.append(np.load(saved_raw_traces))\n",
    "\n",
    "stim_traces_array = np.concatenate(stim_traces_lst, axis=0) # grab all raw traces together\n",
    "sliced_stim_arrays = [x[stimvolume[0].baseline_frames:] for x in stim_traces_array] # only select after baseline time points\n",
    "arrays = np.vstack(sliced_stim_arrays)\n",
    "\n",
    "# calculate the correlation values between all 10 of the stimmed neurons\n",
    "correlation_matrix = np.corrcoef(arrays) \n",
    "correlation_matrix[correlation_matrix == 1] = np.nan\n",
    " # this will be your divider (normalizing value) in the correlation df\n",
    "divider = np.nanmean(correlation_matrix)\n",
    "\n",
    "# running this full array of raw traces through the correlation analysis\n",
    "for v in stimvolume:\n",
    "    corr_df, corr_neurons = photostimulation.correlations_with_stim_sites(v, traces_array = stim_traces_array, \n",
    "                                                                        normalizing = divider, corr_threshold = 0.5)"
   ],
   "outputs": []
  },
  {
   "cell_type": "code",
   "execution_count": null,
   "id": "83d04e60",
   "metadata": {},
   "source": [],
   "outputs": []
  },
  {
   "cell_type": "markdown",
   "id": "15b72c13",
   "metadata": {},
   "source": [
    "# ex 3) plotting the heatmap of each trial of 1 normalized stimulation sites at a time"
   ]
  },
  {
   "cell_type": "code",
   "execution_count": null,
   "id": "5455489f",
   "metadata": {},
   "source": [
    "big_corr_df_lst = []\n",
    "raw_traces_arr_lst = []\n",
    "\n",
    "for v in stimvolume:\n",
    "    # get the correlation dfs\n",
    "    corr_df = pd.read_hdf(Path(v.folder_path).joinpath('correlation_df.hdf'))\n",
    "    corr_df['plane'] = v.data_paths['suite2p'].parents[1].name\n",
    "    big_corr_df_lst.append(corr_df)\n",
    "\n",
    "    # get the raw traces of each stimulation site\n",
    "    raw_traces_arr = np.load(v.folder_path.joinpath('raw_traces.npy')) \n",
    "    raw_traces_arr_lst.append(raw_traces_arr)\n",
    "\n",
    "big_corr_df = pd.concat(big_corr_df_lst)\n",
    "stim_raw_traces = np.concatenate(raw_traces_arr_lst, axis = 0)\n",
    "norm_stim_raw_traces = arrutils.norm_0to1(stim_raw_traces)"
   ],
   "outputs": []
  },
  {
   "cell_type": "code",
   "execution_count": null,
   "id": "0a92f7bb",
   "metadata": {},
   "source": [
    "offsets = [-7, 25]\n",
    "frame_subset = arrutils.subsection_arrays(ps_events, offsets) # frame numbers for each event\n",
    "\n",
    "for x, y in enumerate(norm_stim_raw_traces):\n",
    "    # iterate through each photostimulation event, then grab the frames before and after each event\n",
    "    each_trial = np.array([y[s] for s in frame_subset])\n",
    "\n",
    "    # plot heatmap for each trial\n",
    "    plt.figure(figsize=(10, 3))\n",
    "    sns.heatmap(each_trial, cmap = 'viridis', vmin = 0, vmax = 1, xticklabels = 10)\n",
    "    plt.axvspan(xmin = -offsets[0]-1, xmax = -offsets[0]-1, color = 'red', alpha = 0.8)\n",
    "    plt.xlabel('Frames')\n",
    "    plt.ylabel('Stimulation Events')\n",
    "    plt.title(f'Example stimulation site #{x}')\n",
    "    plt.show()\n",
    "\n",
    "    # plot average trace for the cell\n",
    "    data_mean = np.nanmean(each_trial, axis = 0)\n",
    "    ci_lower, ci_upper = statutils.calculate_ci(each_trial)\n",
    "    plt.figure(figsize=(8, 3))\n",
    "    plt.plot(data_mean, color = 'k')\n",
    "    plt.fill_between(range(len(data_mean)), ci_lower, ci_upper, color='skyblue', \n",
    "                     alpha=0.4, label='95% CI')  # Shade confidence interval\n",
    "    plt.axvspan(xmin = -offsets[0]-1, xmax = -offsets[0], color = 'red', alpha = 0.4)\n",
    "    plt.xlabel('Frames')\n",
    "    plt.ylabel('Normalized Pixel Intensity')\n",
    "    plt.ylim(0, 0.8)\n",
    "    plt.title(f'Mean evoked dF/F for stimulation site #{x}')\n",
    "    plt.show()"
   ],
   "outputs": []
  },
  {
   "cell_type": "markdown",
   "id": "2a04b6be",
   "metadata": {},
   "source": [
    "# ex 4) plotting single plane stimulation sites and image"
   ]
  },
  {
   "cell_type": "code",
   "execution_count": 13,
   "id": "415007e8",
   "metadata": {},
   "source": [
    "oneFish.data_paths['stim_times'] = oneFish.folder_path.joinpath('stim_times.npy')\n",
    "oneFish.data_paths['stim_durations'] = oneFish.folder_path.joinpath('full_duration_per_stim.npy')"
   ],
   "outputs": []
  },
  {
   "cell_type": "code",
   "execution_count": 14,
   "id": "dca6551c",
   "metadata": {},
   "source": [
    "stim_times = np.load(oneFish.data_paths['stim_times'])\n",
    "stim_durations = np.load(oneFish.data_paths['stim_durations'])"
   ],
   "outputs": []
  },
  {
   "cell_type": "code",
   "execution_count": 56,
   "id": "f86e8f12",
   "metadata": {},
   "source": [
    "badframes_single = []\n",
    "\n",
    "for i, frame in enumerate(oneFish.badframes_arr):\n",
    "    if frame != oneFish.badframes_arr[i-1] + 1:\n",
    "        badframes_single.append(frame)\n",
    "    elif i < 450 and frame == oneFish.badframes_arr[i+1] -39:\n",
    "        badframes_single.append(frame)"
   ],
   "outputs": []
  },
  {
   "cell_type": "code",
   "execution_count": 54,
   "id": "7552892f",
   "metadata": {},
   "source": [
    "badframes_single = [frame for i, frame in enumerate(oneFish.badframes_arr) if frame != oneFish.badframes_arr[i-1] + 1 or frame == oneFish.badframes_arr[i+1] - 39 ]  "
   ],
   "outputs": []
  },
  {
   "cell_type": "code",
   "execution_count": 58,
   "id": "754c9197",
   "metadata": {},
   "source": [
    "len(badframes_single)"
   ],
   "outputs": []
  },
  {
   "cell_type": "code",
   "execution_count": 20,
   "id": "3c182484",
   "metadata": {},
   "source": [
    "len(badframes_single)"
   ],
   "outputs": []
  },
  {
   "cell_type": "code",
   "execution_count": 71,
   "id": "de18fa5c",
   "metadata": {},
   "source": [
    "# plotting the locations\n",
    "img = oneFish.ops[\"refImg\"]\n",
    "ps_events = oneFish.badframes_arr\n",
    "\n",
    "plt.imshow(img, cmap=\"gray\", alpha=0.85, vmax=np.percentile(img, 99.9))\n",
    "for point in zip(oneFish.stim_sites_df.x_stim, oneFish.stim_sites_df.y_stim):\n",
    "    plt.scatter(point[0], point[1])\n",
    "plt.axis('off')\n",
    "plt.tight_layout()\n",
    "plt.show()\n",
    "\n",
    "# plotting the raw traces with the baselines\n",
    "for b, c in enumerate(oneFish.raw_traces[0,:]):\n",
    "    plt.plot(np.arange(len(oneFish.raw_traces[b])), arrutils.pretty(c, 5))\n",
    "for f in ps_events:\n",
    "    plt.axvspan(xmin = f-3, xmax = f-2, color = 'red', alpha = 0.4)\n",
    "plt.xlabel('Frames')\n",
    "plt.ylabel('Pixel Intensity (F)')\n",
    "\n",
    "plt.tight_layout()\n",
    "plt.show()\n",
    "\n"
   ],
   "outputs": []
  },
  {
   "cell_type": "code",
   "execution_count": 71,
   "id": "f76ce721",
   "metadata": {},
   "source": [
    "# plotting the locations\n",
    "img = oneFish.ops[\"refImg\"]\n",
    "ps_events = oneFish.badframes_arr\n",
    "\n",
    "plt.imshow(img, cmap=\"gray\", alpha=0.85, vmax=np.percentile(img, 99.9))\n",
    "for point in zip(oneFish.stim_sites_df.x_stim, oneFish.stim_sites_df.y_stim):\n",
    "    plt.scatter(point[0], point[1])\n",
    "plt.axis('off')\n",
    "plt.tight_layout()\n",
    "plt.show()\n",
    "\n",
    "# plotting the raw traces with the baselines\n",
    "for b, c in enumerate(oneFish.raw_traces[1,:]):\n",
    "    plt.plot(np.arange(len(oneFish.raw_traces[b])), arrutils.pretty(c, 5))\n",
    "for f in ps_events:\n",
    "    \n",
    "    plt.axvspan(xmin = f-3, xmax = f-2, color = 'red', alpha = 0.4)\n",
    "plt.xlabel('Frames')\n",
    "plt.ylabel('Pixel Intensity (F)')\n",
    "\n",
    "plt.tight_layout()\n",
    "plt.show()\n",
    "\n"
   ],
   "outputs": []
  },
  {
   "cell_type": "code",
   "execution_count": 96,
   "id": "35fbd8cb",
   "metadata": {
    "collapsed": true
   },
   "source": [
    "# plotting the locations\n",
    "img = oneFish.ops[\"refImg\"]\n",
    "ps_events = oneFish.badframes_arr\n",
    "\n",
    "plt.imshow(img, cmap=\"gray\", alpha=0.85, vmax=np.percentile(img, 99.9))\n",
    "point = (oneFish.stim_sites_df.x_stim[2], oneFish.stim_sites_df.y_stim[2])\n",
    "plt.scatter(point[0], point[1])\n",
    "print(point)\n",
    "plt.axis('off')\n",
    "plt.tight_layout()\n",
    "plt.show()\n",
    "\n",
    "# plotting the raw traces with the baselines\n",
    "plt.plot(np.arange(len(oneFish.raw_traces[2])), arrutils.pretty(oneFish.raw_traces[2], 5))\n",
    "for i, f in enumerate(badframes_single):\n",
    "    if(f<3903):#(f>=7688):\n",
    "        plt.axvspan(xmin = f-3, xmax = f-2, color = 'red', alpha = 0.4)\n",
    "plt.xlabel('Frames')\n",
    "plt.ylabel('Pixel Intensity (F)')\n",
    "\n",
    "plt.tight_layout()\n",
    "plt.show()\n",
    "\n"
   ],
   "outputs": []
  },
  {
   "cell_type": "code",
   "execution_count": 95,
   "id": "a80fc3ff",
   "metadata": {},
   "source": [
    "np.shape(np.where(np.array(badframes_single) < 3903))"
   ],
   "outputs": []
  },
  {
   "cell_type": "code",
   "execution_count": null,
   "id": "9c7ffaae",
   "metadata": {},
   "source": [
    "oneFish."
   ],
   "outputs": []
  },
  {
   "cell_type": "code",
   "execution_count": 72,
   "id": "b0fea365",
   "metadata": {},
   "source": [
    "np.shape(oneFish.raw_traces)"
   ],
   "outputs": []
  },
  {
   "cell_type": "code",
   "execution_count": null,
   "id": "331d766c",
   "metadata": {},
   "source": [
    "# plotting the averaged raw traces per stimulation\n",
    "duration_in_frames = 1\n",
    "pre = 10\n",
    "post = 30\n",
    "len_array = pre + post + duration_in_frames\n",
    "array_per_trial = np.full((len(ps_events), len_array), np.nan)\n",
    "\n",
    "for q, p in enumerate(ps_events):\n",
    "    nested_trace = oneFish.raw_traces[:, p - pre : p + duration_in_frames + post]\n",
    "    trace = [item for sublist in nested_trace for item in sublist]\n",
    "    baseline_mean = np.nanmean(trace[5:pre])\n",
    "    if p == ps_events[-1]:\n",
    "        array_per_trial[q, :len(trace)] = trace/baseline_mean\n",
    "    else:\n",
    "        array_per_trial[q] = trace/baseline_mean\n",
    "\n",
    "mean_trace = np.nanmedian(array_per_trial, axis=0)\n",
    "std_trace = np.nanstd(array_per_trial, axis=0)\n",
    "for a in array_per_trial:\n",
    "    plt.plot(arrutils.pretty(a, 3))\n",
    "plt.plot(mean_trace, color='k', linewidth=3)\n",
    "plt.axvspan(xmin = pre, xmax = pre + duration_in_frames, color = 'red', alpha = 0.4)\n",
    "plt.xlim(3, 38)\n",
    "# plt.ylim(35, 75)\n",
    "current_ticks = plt.xticks()[0]\n",
    "current_labels = [float(label) for label in current_ticks]\n",
    "new_labels = [int(c/oneFish.hzReturner(oneFish.frametimes_df)) for c in current_labels]\n",
    "plt.xticks(current_ticks, new_labels)\n",
    "\n",
    "plt.title('14 Trials, Single Cell Stim (black trace = median)')\n",
    "plt.xlabel('Time(s)')\n",
    "plt.ylabel('Normalized Pixel Intensity (dF/F)')\n",
    "\n",
    "plt.tight_layout()\n",
    "plt.show()"
   ],
   "outputs": []
  },
  {
   "cell_type": "code",
   "execution_count": null,
   "id": "961b8bc7",
   "metadata": {},
   "source": [],
   "outputs": []
  },
  {
   "cell_type": "code",
   "execution_count": null,
   "id": "40cecd81",
   "metadata": {},
   "source": [],
   "outputs": []
  },
  {
   "cell_type": "code",
   "execution_count": 19,
   "id": "16831617",
   "metadata": {},
   "source": [
    "badframes_single = []\n",
    "for i, frame in enumerate(oneFish.badframes_arr):\n",
    "    if(frame != oneFish.badframes_arr[i-1] +1 or (i<400 and frame==oneFish.badframes_arr[i+1]-39)):\n",
    "        badframes_single.append(frame)"
   ],
   "outputs": []
  },
  {
   "cell_type": "code",
   "execution_count": 22,
   "id": "716d1c9a",
   "metadata": {},
   "source": [
    "len(badframes_single)"
   ],
   "outputs": []
  },
  {
   "cell_type": "code",
   "execution_count": 2,
   "id": "206d81a4",
   "metadata": {},
   "source": [
    "def strided_app(a, L, S ):  # Window len = L, Stride len/stepsize = S\n",
    "    nrows = ((a.size-L)//S)+1\n",
    "    n = a.strides[0]\n",
    "    return np.lib.stride_tricks.as_strided(a, shape=(nrows,L), strides=(S*n,n))"
   ],
   "outputs": []
  },
  {
   "cell_type": "code",
   "execution_count": 96,
   "id": "54949847",
   "metadata": {
    "scrolled": false
   },
   "source": [
    "starts = [0, 3903, 7688]\n",
    "starts2 = [0, 1499, 2999]\n",
    "stops = [3903, 7688, 11591]\n",
    "colors = ['r', 'g', 'b']\n",
    "\n",
    "\n",
    "pre = 5\n",
    "post = 10\n",
    "assumed_duration = 1\n",
    "\n",
    "moving_quantile_length = 3000\n",
    "baseline_percentile = 20\n",
    "\n",
    "repetitions = 14\n",
    "param_vals = 7\n",
    "\n",
    "\n",
    "_, tracesBaselines = plt.subplots()\n",
    "_, dfTraces = plt.subplots(3)\n",
    "\n",
    "\n",
    "fig, ax = plt.subplots(3,param_vals)\n",
    "\n",
    "for i in range(3):\n",
    "    \n",
    "    #SELECT THE FRAMES AND BADFRAMES FOR THIS CELL\n",
    "    frames_selection = np.array(oneFish.raw_traces[i])\n",
    "    badframes_selection = [f for f in badframes_single if f>= starts[i] and f <stops[i]]\n",
    "    \n",
    "    #CALCULATE A MOVING QUANTILE BASELINE\n",
    "    stepped_selection = strided_app(frames_selection, moving_quantile_length, 1)\n",
    "    moving_baseline = np.percentile(stepped_selection, baseline_percentile, axis=1)\n",
    "    \n",
    "    \n",
    "    #PLOT BASELINE ALONG WITH ROI TRACE\n",
    "    tracesBaselines.plot(np.arange(len(frames_selection)), frames_selection, color=colors[i])\n",
    "    tracesBaselines.plot(np.arange(len(moving_baseline))+starts2[i], moving_baseline)\n",
    "\n",
    "    #PLOT DF TRACES\n",
    "    dfTruncated = np.array(frames_selection[starts2[i]:starts2[i]+len(moving_baseline)])\n",
    "    \n",
    "    print(len(dfTruncated))\n",
    "    dfTruncated = (dfTruncated-moving_baseline)/moving_baseline\n",
    "    dfTruncated = np.hstack((np.zeros(starts2[i]), dfTruncated))\n",
    "    #select just stimulated window and add 100 frames on either end\n",
    "    dfFull = copy.deepcopy(dfTruncated)\n",
    "    dfTruncated = dfTruncated[badframes_selection[0]-100:badframes_selection[-1]+100]\n",
    "    dfTraces[i].set_ylim([-0.6,1.6])\n",
    "    dfTraces[i].plot(np.arange(badframes_selection[0]-100,badframes_selection[-1]+100), dfTruncated, color=colors[i])\n",
    "    for badframe in badframes_selection:\n",
    "        dfTraces[i].axvspan(xmin = badframe-1, xmax = badframe+1, color = 'red', alpha = 0.4)\n",
    "\n",
    "    #GENERATE PERISTIMULUS DF PLOTS\n",
    "    periStimuli = np.zeros((len(badframes_selection), pre+post+assumed_duration))\n",
    "    \n",
    "    for stimIndex, badframe in enumerate(badframes_selection):\n",
    "        periStimuli[stimIndex, :] = dfFull[badframe-pre:badframe+post+assumed_duration]\n",
    "    #reshape the peristimuli    \n",
    "    periStimuli = np.reshape(periStimuli, (param_vals, repetitions, -1), order='c')\n",
    "    periStimuli = np.mean(periStimuli, axis=1)\n",
    "    for paramVal in range(param_vals):\n",
    "        \n",
    "        if(i != 2):\n",
    "            ax[i][paramVal].get_xaxis().set_visible(False)\n",
    "\n",
    "        if(paramVal !=0):\n",
    "            ax[i][paramVal].get_yaxis().set_visible(False)\n",
    "\n",
    "        ax[i][paramVal].set_ylim([-0.4,0.7])\n",
    "        ax[i][paramVal].plot(periStimuli[paramVal], color=colors[i])\n",
    "        ax[i][paramVal].axvspan(xmin = pre-1.5, xmax = pre-1, color = 'red', alpha = 0.4)\n",
    "    \n",
    "    \n",
    "    print(len(frames_selection))\n",
    "    print(len(badframes_selection))\n",
    "    \n",
    "    \n",
    "    "
   ],
   "outputs": []
  },
  {
   "cell_type": "code",
   "execution_count": 48,
   "id": "ea5bf30a",
   "metadata": {},
   "source": [
    "type(dfTruncated)"
   ],
   "outputs": []
  },
  {
   "cell_type": "code",
   "execution_count": 26,
   "id": "255f5a1e",
   "metadata": {},
   "source": [
    "badframes_single"
   ],
   "outputs": []
  },
  {
   "cell_type": "code",
   "execution_count": null,
   "id": "67b582dd",
   "metadata": {},
   "source": [],
   "outputs": []
  },
  {
   "cell_type": "code",
   "execution_count": null,
   "id": "1ca2d6d4",
   "metadata": {},
   "source": [],
   "outputs": []
  },
  {
   "cell_type": "code",
   "execution_count": null,
   "id": "0c488684",
   "metadata": {},
   "source": [],
   "outputs": []
  },
  {
   "cell_type": "code",
   "execution_count": null,
   "id": "0bb9a319",
   "metadata": {},
   "source": [],
   "outputs": []
  },
  {
   "cell_type": "code",
   "execution_count": null,
   "id": "4a7db9d7",
   "metadata": {},
   "source": [],
   "outputs": []
  },
  {
   "cell_type": "code",
   "execution_count": null,
   "id": "a71ace77",
   "metadata": {},
   "source": [],
   "outputs": []
  },
  {
   "cell_type": "code",
   "execution_count": null,
   "id": "23f30fbe",
   "metadata": {},
   "source": [],
   "outputs": []
  },
  {
   "cell_type": "code",
   "execution_count": null,
   "id": "9116c3ee",
   "metadata": {},
   "source": [],
   "outputs": []
  },
  {
   "cell_type": "code",
   "execution_count": null,
   "id": "edcae9a0",
   "metadata": {},
   "source": [],
   "outputs": []
  },
  {
   "cell_type": "code",
   "execution_count": 24,
   "id": "5654eb88",
   "metadata": {},
   "source": [
    "aaa = mystr.split('\\n')"
   ],
   "outputs": []
  },
  {
   "cell_type": "code",
   "execution_count": 25,
   "id": "aab73f82",
   "metadata": {
    "scrolled": true
   },
   "source": [
    "aaa"
   ],
   "outputs": []
  },
  {
   "cell_type": "code",
   "execution_count": 47,
   "id": "0c856a59",
   "metadata": {},
   "source": [
    "oneFish.badframes_arr"
   ],
   "outputs": []
  },
  {
   "cell_type": "code",
   "execution_count": 26,
   "id": "e6cfbbdf",
   "metadata": {},
   "source": [
    "bbb = [item for item in aaa if not 'badframes' in item]"
   ],
   "outputs": []
  },
  {
   "cell_type": "code",
   "execution_count": 30,
   "id": "764c954f",
   "metadata": {},
   "source": [
    "ccc =  [item[20:] for item in bbb[1:-3]]"
   ],
   "outputs": []
  },
  {
   "cell_type": "code",
   "execution_count": 37,
   "id": "48f66c5d",
   "metadata": {},
   "source": [
    "ddd = np.array(ccc, dtype=int)"
   ],
   "outputs": []
  },
  {
   "cell_type": "code",
   "execution_count": 38,
   "id": "245cbc66",
   "metadata": {},
   "source": [
    "eee = np.array(badframes_single)"
   ],
   "outputs": []
  },
  {
   "cell_type": "code",
   "execution_count": 39,
   "id": "bb37df4b",
   "metadata": {},
   "source": [
    "ddd"
   ],
   "outputs": []
  },
  {
   "cell_type": "code",
   "execution_count": 35,
   "id": "d6be5717",
   "metadata": {},
   "source": [
    "eee"
   ],
   "outputs": []
  },
  {
   "cell_type": "code",
   "execution_count": 42,
   "id": "7b9f494c",
   "metadata": {},
   "source": [
    "ddd"
   ],
   "outputs": []
  },
  {
   "cell_type": "code",
   "execution_count": 40,
   "id": "2eea5113",
   "metadata": {},
   "source": [
    "fff = [item for i, item in enumerate(ddd) if item != ddd[i-1] + 39]"
   ],
   "outputs": []
  },
  {
   "cell_type": "code",
   "execution_count": 41,
   "id": "d3a6ea06",
   "metadata": {},
   "source": [
    "fff"
   ],
   "outputs": []
  },
  {
   "cell_type": "code",
   "execution_count": 45,
   "id": "84ec5367",
   "metadata": {},
   "source": [
    "np.where(ddd == 3903)"
   ],
   "outputs": []
  },
  {
   "cell_type": "code",
   "execution_count": 65,
   "id": "b2623659",
   "metadata": {},
   "source": [
    "mm = pd.read_hdf(Path(oneFish.folder_path).joinpath(\"stim_sites.hdf\"))"
   ],
   "outputs": []
  },
  {
   "cell_type": "code",
   "execution_count": 66,
   "id": "e52f3866",
   "metadata": {},
   "source": [
    "mm"
   ],
   "outputs": []
  },
  {
   "cell_type": "code",
   "execution_count": null,
   "id": "5e7853b4",
   "metadata": {},
   "source": [],
   "outputs": []
  }
 ],
 "metadata": {
  "kernelspec": {
   "display_name": "Python 3 (ipykernel)",
   "language": "python",
   "name": "python3"
  },
  "language_info": {
   "codemirror_mode": {
    "name": "ipython",
    "version": 3
   },
   "file_extension": ".py",
   "mimetype": "text/x-python",
   "name": "python",
   "nbconvert_exporter": "python",
   "pygments_lexer": "ipython3",
   "version": "3.7.10"
  }
 },
 "nbformat": 4,
 "nbformat_minor": 5
}
